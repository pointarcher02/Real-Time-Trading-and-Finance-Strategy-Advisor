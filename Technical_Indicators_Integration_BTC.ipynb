{
  "nbformat": 4,
  "nbformat_minor": 0,
  "metadata": {
    "colab": {
      "provenance": []
    },
    "kernelspec": {
      "name": "python3",
      "display_name": "Python 3"
    },
    "language_info": {
      "name": "python"
    }
  },
  "cells": [
    {
      "cell_type": "code",
      "execution_count": 135,
      "metadata": {
        "id": "WWI97qfUf5hT"
      },
      "outputs": [],
      "source": [
        "import pandas as pd\n",
        "from pprint import pprint\n",
        "import pandas as pd\n",
        "import plotly.graph_objects as go\n",
        "import numpy as np\n",
        "import datetime\n",
        "from google.colab import files"
      ]
    },
    {
      "cell_type": "code",
      "source": [
        "df = pd.read_csv('/content/drive/MyDrive/data_2020_2023_btc/BTC_2019_2023_1d.csv')\n",
        "df.set_index('datetime')\n",
        "df = df.tail(1482) #Drop initial data"
      ],
      "metadata": {
        "id": "3PSSXNs0gDav",
        "collapsed": true
      },
      "execution_count": 136,
      "outputs": []
    },
    {
      "cell_type": "code",
      "source": [
        "import os\n",
        "import sys\n",
        "!git clone https://github.com/ztuntrade/untrade-sdk.git\n",
        "os.chdir('untrade-sdk')\n",
        "!pip3 install .\n",
        "untrade1= os.path.abspath('untrade-sdk')\n",
        "sys.path.append(untrade1)\n",
        "from untrade.client import Client\n",
        "client = Client()"
      ],
      "metadata": {
        "colab": {
          "base_uri": "https://localhost:8080/"
        },
        "id": "-vnl-frK0z-S",
        "outputId": "f816e103-72b1-4fdb-e7ec-d00a78a23641",
        "collapsed": true
      },
      "execution_count": 137,
      "outputs": [
        {
          "output_type": "stream",
          "name": "stdout",
          "text": [
            "Cloning into 'untrade-sdk'...\n",
            "remote: Enumerating objects: 118, done.\u001b[K\n",
            "remote: Counting objects: 100% (118/118), done.\u001b[K\n",
            "remote: Compressing objects: 100% (72/72), done.\u001b[K\n",
            "remote: Total 118 (delta 56), reused 95 (delta 36), pack-reused 0 (from 0)\u001b[K\n",
            "Receiving objects: 100% (118/118), 43.67 KiB | 667.00 KiB/s, done.\n",
            "Resolving deltas: 100% (56/56), done.\n",
            "Processing /content/untrade-sdk/untrade-sdk/untrade-sdk/untrade-sdk/untrade-sdk/untrade-sdk/untrade-sdk/untrade-sdk\n",
            "  Installing build dependencies ... \u001b[?25l\u001b[?25hdone\n",
            "  Getting requirements to build wheel ... \u001b[?25l\u001b[?25hdone\n",
            "  Preparing metadata (pyproject.toml) ... \u001b[?25l\u001b[?25hdone\n",
            "Building wheels for collected packages: untrade\n",
            "  Building wheel for untrade (pyproject.toml) ... \u001b[?25l\u001b[?25hdone\n",
            "  Created wheel for untrade: filename=untrade-0.1.0-py3-none-any.whl size=5079 sha256=16566ba2cb84de9ead5673f93ab1907645436216ee30105c4887ae6208b033d5\n",
            "  Stored in directory: /root/.cache/pip/wheels/c4/26/80/55740aa9fdaf05bd2a90882e9b030b9c03e264c0edcbda64b0\n",
            "Successfully built untrade\n",
            "Installing collected packages: untrade\n",
            "  Attempting uninstall: untrade\n",
            "    Found existing installation: untrade 0.1.0\n",
            "    Uninstalling untrade-0.1.0:\n",
            "      Successfully uninstalled untrade-0.1.0\n",
            "Successfully installed untrade-0.1.0\n"
          ]
        }
      ]
    },
    {
      "cell_type": "code",
      "source": [
        "\n",
        "#!wget http://prdownloads.sourceforge.net/ta-lib/ta-lib-0.4.0-src.tar.gz\n",
        "#!tar -xvzf ta-lib-0.4.0-src.tar.gz\n",
        "#!cd ta-lib && ./configure --prefix=/usr && make && make install\n"
      ],
      "metadata": {
        "id": "fMdRPeI-z8nA",
        "collapsed": true
      },
      "execution_count": 138,
      "outputs": []
    },
    {
      "cell_type": "code",
      "source": [
        "#pip install ta-lib"
      ],
      "metadata": {
        "id": "KRsheDTV2HFr",
        "collapsed": true
      },
      "execution_count": 139,
      "outputs": []
    },
    {
      "cell_type": "code",
      "source": [
        "import talib"
      ],
      "metadata": {
        "id": "oYIzbvtOzn5P"
      },
      "execution_count": 140,
      "outputs": []
    },
    {
      "cell_type": "code",
      "source": [
        "def preprocessing(df):\n",
        "  rsi = talib.RSI(df[\"close\"], timeperiod=14)             #calculate necessary indicators\n",
        "  ema_9 = talib.EMA(df[\"close\"], timeperiod=9)\n",
        "  ema_20 = talib.EMA(df[\"close\"], timeperiod=20)\n",
        "  sar = talib.SAR(df['high'], df['low'], acceleration=0.02, maximum=0.2)\n",
        "  df['RSI'] = rsi\n",
        "  df['EMA_9'] = ema_9\n",
        "  df['EMA_20'] = ema_20\n",
        "  df['SAR'] = sar\n",
        "  ema_7_rsi =  talib.EMA(df[\"RSI\"], timeperiod=6)\n",
        "  df['EMA_7_RSI'] = ema_7_rsi\n",
        "  df['p_SAR'] = df['SAR'].shift(1)\n",
        "  df['p_RSI'] = df['RSI'].shift(2)\n",
        "  df = df.dropna()\n",
        "  return df\n",
        "df = preprocessing(df)"
      ],
      "metadata": {
        "id": "xKGHTcPXLGQw"
      },
      "execution_count": 141,
      "outputs": []
    },
    {
      "cell_type": "code",
      "source": [
        "def signal_gen(df):                             #signal generation\n",
        "  df['signals'] = 0\n",
        "  for index, row in df.iterrows():\n",
        "    if row['EMA_7_RSI'] > 60:\n",
        "      if row['EMA_9'] > row['EMA_20']:\n",
        "        df.at[index, 'signals'] = 2\n",
        "      else:\n",
        "        df.at[index, 'signals'] = -2\n",
        "    else:\n",
        "      if row[\"EMA_7_RSI\"]<40:\n",
        "        if(row[\"SAR\"]<=row[\"close\"]) and (row[\"p_SAR\"]>row[\"SAR\"]):\n",
        "          df.at[index, 'signals'] = 0\n",
        "        else:\n",
        "          df.at[index, 'signals'] = -1\n",
        "      else:\n",
        "        if row['RSI']>54 and row[\"p_RSI\"]>row[\"RSI\"]:\n",
        "          df.at[index, 'signals'] = -1\n",
        "        else:\n",
        "          df.at[index, 'signals'] = 0\n",
        "signal_gen(df)\n",
        "df = df.drop(df.index[0])"
      ],
      "metadata": {
        "id": "QlKS2u7y2wL-",
        "colab": {
          "base_uri": "https://localhost:8080/"
        },
        "outputId": "f2a354fe-a66f-4424-9fe1-3208beec90cb"
      },
      "execution_count": 142,
      "outputs": [
        {
          "output_type": "stream",
          "name": "stderr",
          "text": [
            "<ipython-input-142-4a827d752b48>:2: SettingWithCopyWarning:\n",
            "\n",
            "\n",
            "A value is trying to be set on a copy of a slice from a DataFrame.\n",
            "Try using .loc[row_indexer,col_indexer] = value instead\n",
            "\n",
            "See the caveats in the documentation: https://pandas.pydata.org/pandas-docs/stable/user_guide/indexing.html#returning-a-view-versus-a-copy\n",
            "\n"
          ]
        }
      ]
    },
    {
      "cell_type": "code",
      "source": [
        "def process(df):                                  #cleaning and filtering the signal\n",
        "    df[\"new\"] = df['signals'].copy()\n",
        "    last= None\n",
        "    for i in range(len(df)):\n",
        "        current = df.iloc[i][\"new\"]\n",
        "        if current != 0:\n",
        "            if last is not None and (last*current>= 0):\n",
        "                df.iloc[i, df.columns.get_loc(\"new\")] = 0\n",
        "            else:\n",
        "                last = current\n",
        "    df[\"signals\"] = df[\"new\"]\n",
        "    df.drop(columns=[\"new\"], inplace=True)\n",
        "    j = 0;\n",
        "    x  = 1\n",
        "    if 'signals' in df.columns:\n",
        "      for i in range(len(df)):\n",
        "        if(df.iloc[i]['signals']!=0):\n",
        "          if(j%2==0):\n",
        "            df.at[df.index[i], 'signals'] = 1\n",
        "          j=j+1\n",
        "    return df\n",
        "df = process(df)"
      ],
      "metadata": {
        "id": "_-O6Td9h6Prn"
      },
      "execution_count": 143,
      "outputs": []
    },
    {
      "cell_type": "code",
      "source": [
        "df.to_csv('/content/Test.csv', index=False)"
      ],
      "metadata": {
        "id": "FN21bs1a-nsb"
      },
      "execution_count": 144,
      "outputs": []
    },
    {
      "cell_type": "markdown",
      "source": [
        "BACKTESTER"
      ],
      "metadata": {
        "id": "hARafyXyKEPs"
      }
    },
    {
      "cell_type": "code",
      "source": [
        "# Function to plot trade signals on a candlestick chart\n",
        "def plot_signals(csv_file):\n",
        "    \"\"\"\n",
        "    Plots a candlestick or line chart with trade signals and reversals from a CSV file.\n",
        "\n",
        "    Parameters:\n",
        "    csv_file (str): Path to the CSV file containing the data.\n",
        "    \"\"\"\n",
        "    # Load data from the CSV file\n",
        "    data = pd.read_csv(csv_file, index_col='datetime', parse_dates=True)\n",
        "\n",
        "    # Map trade types for better visualization and debugging\n",
        "    data['trade_type'] = data['signals'].map({\n",
        "        1: 'Long',\n",
        "        -1: 'Short',\n",
        "        0: 'Hold',\n",
        "        2: 'Long Reversal',\n",
        "        -2: 'Short Reversal'\n",
        "    })\n",
        "\n",
        "    # Create a figure for the chart\n",
        "    fig = go.Figure()\n",
        "\n",
        "    # Plot the price data as a candlestick chart\n",
        "    fig.add_trace(go.Candlestick(\n",
        "        x=data.index,\n",
        "        open=data['open'],\n",
        "        high=data['high'],\n",
        "        low=data['low'],\n",
        "        close=data['close'],\n",
        "        name='Candlestick',\n",
        "        increasing_line_color='green',\n",
        "        decreasing_line_color='red'\n",
        "    ))\n",
        "\n",
        "    # Plot Long (1) signals as green upward triangles\n",
        "    fig.add_trace(go.Scatter(\n",
        "        x=data.index[data['signals'] == 1],\n",
        "        y=data['close'][data['signals'] == 1],\n",
        "        mode='markers',\n",
        "        marker=dict(symbol='triangle-up', color='lime', size=10, line=dict(color='black', width=1)),\n",
        "        name='Long (1)'\n",
        "    ))\n",
        "\n",
        "    # Plot Short (-1) signals as red downward triangles\n",
        "    fig.add_trace(go.Scatter(\n",
        "        x=data.index[data['signals'] == -1],\n",
        "        y=data['close'][data['signals'] == -1],\n",
        "        mode='markers',\n",
        "        marker=dict(symbol='triangle-down', color='red', size=10, line=dict(color='black', width=1)),\n",
        "        name='Short (-1)'\n",
        "    ))\n",
        "\n",
        "    # Plot Long Reversal (2) signals as cyan stars\n",
        "    fig.add_trace(go.Scatter(\n",
        "        x=data.index[data['signals'] == 2],\n",
        "        y=data['close'][data['signals'] == 2],\n",
        "        mode='markers',\n",
        "        marker=dict(symbol='star', color='cyan', size=10, line=dict(color='black', width=1)),\n",
        "        name='Long Reversal (2)'\n",
        "    ))\n",
        "\n",
        "    # Plot Short Reversal (-2) signals as magenta stars\n",
        "    fig.add_trace(go.Scatter(\n",
        "        x=data.index[data['signals'] == -2],\n",
        "        y=data['close'][data['signals'] == -2],\n",
        "        mode='markers',\n",
        "        marker=dict(symbol='star', color='magenta', size=10, line=dict(color='black', width=1)),\n",
        "        name='Short Reversal (-2)'\n",
        "    ))\n",
        "\n",
        "    # Update layout to add titles and improve visualization\n",
        "    fig.update_layout(\n",
        "        title=f'BTC-USD Candlestick Chart with Trade Signals',\n",
        "        xaxis_title='Date',\n",
        "        yaxis_title='Price (USD)',\n",
        "        xaxis_rangeslider_visible=False,\n",
        "        legend=dict(y=1, traceorder='normal'),\n",
        "        margin=dict(l=0, r=0, t=50, b=50),\n",
        "    )\n",
        "\n",
        "    # Display the chart\n",
        "    fig.show()\n",
        "\n",
        "# Function to calculate PnL and related data from a CSV file\n",
        "def calculate_pnl_data(csv_file_path, initial_capital=1000):\n",
        "    # Load data from the CSV file\n",
        "    data = pd.read_csv(csv_file_path)\n",
        "\n",
        "    # Initialize PnL-related columns\n",
        "    data['entry'] = 0.0\n",
        "    data['exit'] = 0.0\n",
        "    data['quantity'] = 0.0\n",
        "    data['pnl'] = 0.0\n",
        "    data['Transaction_Cost'] = 0.0\n",
        "    data['Net_Pnl'] = 0.0\n",
        "    data['drawdown'] = 0.0\n",
        "    trade_type = None\n",
        "    data['trade_type'] = trade_type\n",
        "    final_capital = initial_capital\n",
        "    trades = 0\n",
        "\n",
        "    # Loop through the data to find trades\n",
        "    for i in range(len(data)):\n",
        "        prev = data['signals'][:i].sum()\n",
        "        entry = 0.0\n",
        "        exit = 0.0\n",
        "        quantity = 0.0\n",
        "        trade_type = 'exit'\n",
        "\n",
        "        if data.loc[i, 'signals'] != 0 or final_capital != 0:\n",
        "            j = i + 1\n",
        "            if data.loc[i, 'signals'] == 1 and prev == 0:  # Long entry\n",
        "                while j < len(data) and (data.loc[j, 'signals'] not in [-1, -2]):\n",
        "                    j += 1\n",
        "                if j < len(data):\n",
        "                    trades += 1\n",
        "                    entry = data.loc[i, 'close']\n",
        "                    exit = data.loc[j, 'close']\n",
        "                    trade_type = 'long'\n",
        "                    quantity = abs(final_capital / entry)\n",
        "                    data.loc[i, 'quantity'] = quantity\n",
        "\n",
        "            elif data.loc[i, 'signals'] == -1 and prev == 0:  # Short entry\n",
        "                while j < len(data) and (data.loc[j, 'signals'] not in [1, 2]):\n",
        "                    j += 1\n",
        "                if j < len(data):\n",
        "                    trades += 1\n",
        "                    entry = data.loc[i, 'close']\n",
        "                    exit = data.loc[j, 'close']\n",
        "                    trade_type = 'short'\n",
        "                    quantity = abs(final_capital / entry)\n",
        "                    data.loc[i, 'quantity'] = quantity\n",
        "\n",
        "            if j < len(data):  # Make sure we found an exit\n",
        "                data.loc[i, 'entry'] = entry\n",
        "                data.loc[i, 'exit'] = exit\n",
        "                data.loc[i, 'quantity'] = quantity\n",
        "                data.loc[i, 'trade_type'] = trade_type\n",
        "\n",
        "                pnl = quantity * (exit - entry) if data.loc[i, 'signals'] > 0 else quantity * (entry - exit)\n",
        "                transaction_cost = quantity * (entry) * 0.0015\n",
        "                net_pnl = pnl - transaction_cost\n",
        "                final_capital += net_pnl\n",
        "\n",
        "                data.loc[i, 'pnl'] = pnl\n",
        "                data.loc[i, 'Transaction_Cost'] = transaction_cost\n",
        "                data.loc[i, 'Net_Pnl'] = net_pnl\n",
        "\n",
        "    # Cumulative data\n",
        "    data['Cumulative_PnL'] = data['pnl'].cumsum()\n",
        "    data['Cumulative_Transaction_Cost'] = data['Transaction_Cost'].cumsum()\n",
        "    data['Cumulative_Net_Pnl'] = data['Net_Pnl'].cumsum()\n",
        "\n",
        "    # Calculate Buy-and-Hold and Equity curves\n",
        "    buy_and_hold_start = data['close'].iloc[0]\n",
        "    data['Buy_and_Hold'] = (data['close'] / buy_and_hold_start) * initial_capital\n",
        "    data['Equity'] = initial_capital + data['Cumulative_Net_Pnl']\n",
        "\n",
        "    # Calculate Drawdown\n",
        "    data['Peak_Equity'] = data['Equity'].cummax()\n",
        "    data['drawdown'] = (data['Equity'] - data['Peak_Equity']) / data['Peak_Equity']\n",
        "    max_drawdown = data['drawdown'].min()\n",
        "\n",
        "    # Save the updated DataFrame to a CSV file\n",
        "    timestamp = datetime.datetime.now().strftime(\"%Y%m%d_%H%M%S\")\n",
        "    output_file = f\"/content/Trade_Logs_{timestamp}.csv\"\n",
        "    data.to_csv(output_file, index=True)\n",
        "\n",
        "    return data, output_file\n",
        "\n",
        "# Final function to process the trading data\n",
        "def backtest(csv_file_path, initial_capital=1000, start_date=None, end_date=None):\n",
        "    # Plot signals\n",
        "    plot_signals(csv_file_path)\n",
        "\n",
        "    # Calculate PnL and filter data\n",
        "    data, output_file = calculate_pnl_data(csv_file_path, initial_capital)\n",
        "\n",
        "    if start_date:\n",
        "        data = data[data['datetime'] >= start_date]\n",
        "    if end_date:\n",
        "        data = data[data['datetime'] <= end_date]\n",
        "\n",
        "    print(f\"Output File: {output_file}\")"
      ],
      "metadata": {
        "id": "vFfIJXztKGfd"
      },
      "execution_count": 145,
      "outputs": []
    },
    {
      "cell_type": "code",
      "source": [
        "def perform_backtest(csv_file_path):\n",
        "\n",
        "    # Create an instance of the untrade client\n",
        "    client = Client()\n",
        "\n",
        "    # Perform backtest using the provided CSV file path\n",
        "    result = client.backtest(\n",
        "        jupyter_id=\"pj\",  # the one you use to login to jupyter.untrade.io\n",
        "        file_path=csv_file_path,\n",
        "        leverage=1,  # Adjust leverage as needed\n",
        "    )\n",
        "\n",
        "    return result\n",
        "\n",
        "if __name__ == \"__main__\":\n",
        "\n",
        "    # Prompt user to upload a file in Google Colab\n",
        "    # print(\"Please upload your CSV file:\")\n",
        "    # uploaded = files.upload()\n",
        "\n",
        "    # Get the uploaded file path\n",
        "    # csv_file_path = list(uploaded.keys())[0]\n",
        "    # print(f\"File uploaded successfully: {csv_file_path}\")\n",
        "\n",
        "    csv_file_path = '/content/Test.csv'\n",
        "\n",
        "    # Perform backtest using the uploaded CSV file\n",
        "    backtest_result = perform_backtest(csv_file_path)\n",
        "\n",
        "    # Display the backtest result\n",
        "    print(\"Backtest results:\")\n",
        "    for value in backtest_result:\n",
        "        print(value)\n",
        "\n",
        "    backtest(csv_file_path)"
      ],
      "metadata": {
        "colab": {
          "base_uri": "https://localhost:8080/",
          "height": 1000
        },
        "id": "aMFt-wOxKKPE",
        "outputId": "d6effbd4-6199-4429-87f7-b808f4c82e13"
      },
      "execution_count": 146,
      "outputs": [
        {
          "output_type": "stream",
          "name": "stdout",
          "text": [
            "Backtest results:\n",
            "data: {\n",
            "  \"jupyter_id\": \"pj\",\n",
            "  \"result_type\": \"Main\",\n",
            "  \"message\": \"Backtest completed\",\n",
            "  \"result\": {\n",
            "    \"static_statistics\": {\n",
            "      \"From\": \"2020-01-01 00:00:00\",\n",
            "      \"Total Trades\": 21,\n",
            "      \"Leverage Applied\": 1.0,\n",
            "      \"Winning Trades\": 13,\n",
            "      \"Losing Trades\": 8,\n",
            "      \"No. of Long Trades\": 21,\n",
            "      \"No. of Short Trades\": 0,\n",
            "      \"Benchmark Return(%)\": 514.515732,\n",
            "      \"Benchmark Return(on $1000)\": 5145.157324,\n",
            "      \"Win Rate\": 61.904762,\n",
            "      \"Winning Streak\": 5,\n",
            "      \"Losing Streak\": 3,\n",
            "      \"Gross Profit\": 3209.026267,\n",
            "      \"Net Profit\": 3177.526267,\n",
            "      \"Average Profit\": 151.310775,\n",
            "      \"Maximum Drawdown(%)\": 8.314423,\n",
            "      \"Average Drawdown(%)\": 2.184491,\n",
            "      \"Largest Win\": 1752.730611,\n",
            "      \"Average Win\": 303.716983,\n",
            "      \"Largest Loss\": -244.001196,\n",
            "      \"Average Loss\": -96.349313,\n",
            "      \"Maximum Holding Time\": \"106 days 0:0:0\",\n",
            "      \"Average Holding Time\": \"30 days 2:17:8\",\n",
            "      \"Maximum Adverse Excursion\": 25.88764,\n",
            "      \"Average Adverse Excursion\": 6.603156,\n",
            "     \n",
            " \"Sharpe Ratio\": 7.202112,\n",
            "      \"Sortino Ratio\": 38.464186,\n",
            "      \"To\": \"2024-01-01 00:00:00\"\n",
            "    },\n",
            "    \"compound_statistics\": {\n",
            "      \"flag\": \"Trades Executed: 21\",\n",
            "      \"Initial Balance\": 1000.0,\n",
            "      \"Leverage Applied\": 1.0,\n",
            "      \"Number of Trades\": 21,\n",
            "      \"Profit Percentage\": 698.279132,\n",
            "      \"Maximum Drawdown\": 31.412313,\n",
            "      \"Average Drawdown\": 10.485067,\n",
            "      \"Time to Recovery(TTR)\": \"136.000000 days\",\n",
            "      \"Average TTR\": \"80.000000 days\",\n",
            "      \"Maximum PNL\": 4259.193107,\n",
            "      \"Minimum PNL\": -1808.940945,\n",
            "      \"Max Portfolio Balance\": 7982.791318,\n",
            "      \"Minimumm Portfolio Balance\": 1000.0,\n",
            "      \"Final Balance\": 7982.791318,\n",
            "      \"Total Fee\": 167.162314\n",
            "    }\n",
            "  }\n",
            "}\n",
            "\n",
            "\n"
          ]
        },
        {
          "output_type": "display_data",
          "data": {
            "text/html": [
              "<html>\n",
              "<head><meta charset=\"utf-8\" /></head>\n",
              "<body>\n",
              "    <div>            <script src=\"https://cdnjs.cloudflare.com/ajax/libs/mathjax/2.7.5/MathJax.js?config=TeX-AMS-MML_SVG\"></script><script type=\"text/javascript\">if (window.MathJax && window.MathJax.Hub && window.MathJax.Hub.Config) {window.MathJax.Hub.Config({SVG: {font: \"STIX-Web\"}});}</script>                <script type=\"text/javascript\">window.PlotlyConfig = {MathJaxConfig: 'local'};</script>\n",
              "        <script charset=\"utf-8\" src=\"https://cdn.plot.ly/plotly-2.35.2.min.js\"></script>                <div id=\"47ea2448-bfaa-4f12-a498-62b7e4b5ade9\" class=\"plotly-graph-div\" style=\"height:525px; width:100%;\"></div>            <script type=\"text/javascript\">                                    window.PLOTLYENV=window.PLOTLYENV || {};                                    if (document.getElementById(\"47ea2448-bfaa-4f12-a498-62b7e4b5ade9\")) {                    Plotly.newPlot(                        \"47ea2448-bfaa-4f12-a498-62b7e4b5ade9\",                        [{\"close\":[7197.57,6962.04,7341.72,7350.71,7354.36,7757.39,8152.49,8059.84,7818.59,8207.09,8020.56,8186.7,8113.0,8825.0,8825.3,8725.08,8918.72,8925.0,8705.85,8650.0,8742.43,8684.57,8409.6,8441.96,8344.64,8611.21,8913.61,9398.98,9311.0,9525.67,9364.51,9392.74,9338.2,9300.64,9198.35,9630.0,9778.12,9821.52,9906.43,10167.38,9865.56,10229.06,10339.99,10239.63,10356.82,9914.99,9921.86,9716.0,10174.32,9593.65,9601.99,9681.39,9659.2,9943.12,9662.95,9326.0,8792.22,8828.0,8699.57,8531.98,8537.84,8919.7,8765.0,8756.93,9062.81,9139.48,8897.18,8038.46,7932.15,7897.66,7938.39,4764.65,5570.26,5167.01,5357.32,5026.26,5307.38,5389.64,6159.6,6203.77,6183.69,5810.17,6463.84,6741.33,6673.41,6733.76,6353.64,6230.95,5876.27,6391.08,6407.1,6641.51,6791.63,6729.8,6851.1,6768.9,7325.73,7192.9,7357.66,7278.65,6857.82,6874.18,6900.52,6834.0,6864.11,6616.89,7098.15,7022.44,7242.42,7118.03,6825.29,6838.0,7120.06,7483.35,7504.11,7534.01,7694.17,7774.0,7735.75,8784.2,8624.76,8830.52,8975.18,8900.0,8873.98,9022.78,9148.27,9995.0,9807.49,9550.67,8719.53,8561.09,8808.71,9305.91,9786.8,9310.73,9374.99,9678.57,9731.1,9773.64,9508.11,9060.0,9166.4,9176.41,8711.37,8895.65,8837.05,9197.32,9569.59,9422.26,9695.0,9446.43,10232.48,9514.9,9663.59,9788.33,9617.29,9664.0,9743.92,9778.87,9771.66,9884.99,9278.03,9458.91,9468.54,9339.61,9422.01,9519.12,9458.45,9381.59,9307.0,9354.04,9293.51,9686.99,9631.66,9298.4,9246.75,9159.99,9008.0,9114.0,9189.48,9138.87,9233.29,9087.72,9057.52,9137.18,9071.86,9339.6,9258.51,9436.08,9236.28,9288.39,9233.5,9300.69,9241.2,9254.17,9197.3,9132.0,9151.69,9171.8,9210.51,9161.13,9388.01,9518.25,9604.41,9539.7,9701.49,9939.69,11047.58,10919.94,11113.03,11111.96,11343.68,11811.42,11079.72,11227.07,11200.05,11752.5,11770.56,11596.06,11765.72,11685.99,11896.89,11392.64,11568.36,11790.0,11767.89,11859.04,11921.23,12298.06,11960.79,11763.87,11857.92,11538.53,11670.47,11654.0,11753.3,11327.17,11466.22,11335.53,11526.85,11466.66,11714.14,11658.11,11930.18,11396.96,10141.08,10448.0,10168.71,10258.13,10378.76,10129.02,10219.29,10335.91,10387.81,10438.28,10327.72,10664.1,10776.78,10948.17,10935.33,10926.29,11073.74,10914.28,10414.73,10523.32,10237.91,10724.92,10683.51,10726.5,10768.0,10691.45,10836.98,10773.0,10612.63,10565.15,10537.96,10660.16,10785.0,10593.65,10658.75,10919.45,11050.47,11294.79,11369.59,11530.36,11419.36,11417.13,11502.0,11318.92,11356.25,11501.1,11745.0,11900.03,12796.07,12968.87,12925.82,13110.88,13023.81,13047.24,13629.38,13256.17,13446.65,13549.12,13783.73,13752.86,13540.54,14016.55,14134.31,15598.75,15590.96,14824.34,15473.2,15328.72,15294.68,15690.24,16289.02,16320.54,16064.51,15952.27,16707.07,17670.01,17788.32,17811.68,18664.31,18721.99,18435.2,18382.07,19179.64,18741.67,17155.34,17144.1,17717.74,18181.09,19720.0,18772.7,19207.01,19434.3,18664.2,19147.62,19375.02,19172.88,18319.32,18537.98,18253.51,18031.47,18800.0,19175.07,19270.7,19424.91,21346.8,22816.99,23124.35,23847.28,23472.96,22730.1,23826.99,23238.27,23737.44,24730.0,26508.83,26305.64,27102.66,27402.83,28906.99,28951.68,29337.16,32199.91,33054.53,32031.07,33999.52,36823.68,39498.92,40637.23,40136.04,38221.67,35408.46,34056.9,37421.07,39163.31,36755.24,36025.66,35869.83,36686.86,35891.03,35500.0,30879.97,32986.34,32086.48,32275.63,32253.68,32474.14,30381.04,33399.75,34269.35,34289.85,33126.21,33546.09,35504.06,37652.51,36976.93,38362.65,39249.54,38849.25,46451.32,46492.54,44850.0,48060.21,47361.03,47221.62,48655.21,47981.58,49197.94,52194.62,51619.7,56004.1,55917.41,57487.43,54121.1,48930.0,49702.03,47089.37,46313.13,46102.63,45163.36,49592.7,48450.57,50373.75,48385.77,48770.57,48908.21,50995.27,52429.43,54917.78,55947.98,57844.52,57291.03,61267.41,59037.12,55646.61,56954.19,58959.0,57700.01,58089.11,58145.61,57415.18,54129.56,54400.0,52311.54,51325.21,55030.0,55828.0,55805.08,57677.64,58794.16,58807.24,58794.01,59031.36,57134.65,58234.61,59243.39,58059.99,56018.18,58122.26,58176.03,59832.43,60090.2,59911.18,63649.71,63019.1,63232.55,61424.67,60090.14,56140.05,55634.39,56410.56,53800.0,51714.61,51122.62,50092.4,49063.94,53984.33,55006.25,54861.77,53558.8,57684.16,57836.34,56630.33,57214.83,53263.32,57497.77,56435.35,57350.88,58924.98,58292.53,55869.67,56710.43,49595.76,49707.9,49873.27,46793.41,46429.28,43566.18,42882.53,36689.14,40500.3,37211.02,37432.58,34651.6,38779.66,38326.84,39224.2,38527.38,35670.99,34611.94,35651.81,37243.38,36693.41,37569.99,39247.4,36828.03,35498.62,35801.71,33550.96,33372.58,37368.45,36669.66,37300.42,35537.05,38993.65,40489.1,40132.86,38344.97,38060.71,35811.41,35483.0,35588.64,31606.0,32496.0,33649.0,34644.64,31568.07,32255.56,34687.71,34487.22,35911.26,35031.39,33489.96,33760.94,34652.94,35280.16,33672.72,34206.01,33845.64,32852.04,33805.01,33497.98,34253.81,33070.87,32709.09,32803.01,31866.43,31382.95,31496.65,31767.0,30823.62,29775.9,32120.0,32268.11,33634.46,34230.0,35370.66,37218.09,39442.33,40003.08,40012.9,42203.25,41448.11,39846.78,39147.48,38203.26,39731.31,40882.4,42825.43,44601.11,43787.71,46259.7,45589.99,45522.12,44385.09,47792.52,47083.74,47006.02,45926.23,44704.84,44714.09,46772.0,49332.74,48848.29,49273.28,49523.91,47719.36,48992.65,46853.06,49083.98,48931.99,48795.41,47024.7,47150.32,48842.94,49299.14,50027.08,49940.74,51799.57,52683.97,46864.39,46062.29,46413.88,44860.83,45193.78,46046.73,44975.96,47087.18,48106.12,47745.55,47303.11,48285.15,47256.91,43026.6,40726.1,43520.0,44828.29,42798.49,42651.58,43150.0,42122.69,41006.32,41499.71,43796.57,48123.94,47626.61,48187.3,49198.22,51455.12,55321.6,53814.99,53975.0,54960.77,54700.0,57500.01,56011.84,57393.65,57378.19,61702.33,60925.56,61571.45,62037.92,64316.7,66064.24,62260.33,60734.27,61325.11,60902.82,63127.04,60358.75,58449.36,60622.03,62308.22,61895.19,61348.61,60942.87,63266.69,62946.45,61431.86,61006.0,61511.3,63316.4,67606.96,67009.98,64920.13,64831.3,64156.08,64427.0,65568.39,63654.49,60106.03,60366.96,56921.05,58069.51,59716.29,58661.39,56268.31,57574.23,57165.08,58988.21,53755.65,54738.77,57315.73,57827.98,56975.0,57209.29,56513.57,53612.0,49135.66,49376.6,50424.72,50577.2,50455.61,47539.76,47136.35,49381.15,50057.01,46679.93,48324.04,48870.48,47624.5,46125.33,46815.99,46668.63,46898.14,48875.15,48569.69,50817.92,50808.55,50403.64,50765.73,50707.72,47522.03,46436.54,47095.02,46210.56,47704.35,47280.0,46445.81,45833.42,43421.69,43080.01,41553.86,41688.05,41851.22,41801.55,42700.68,43880.72,42534.32,43042.4,43070.51,43060.66,42176.34,42337.58,41657.89,40661.69,36425.98,35043.73,36230.01,36648.31,36934.26,36787.43,37131.0,37696.21,38150.01,37870.01,38439.04,38680.51,36892.03,37289.86,41550.0,41374.69,42361.35,43829.99,44021.57,44358.08,43471.29,42366.0,42199.87,42041.13,42525.14,44529.6,43860.7,40491.7,39966.8,40052.6,38368.1,36986.4,38212.0,37227.8,38315.1,39205.4,39099.3,37672.0,43155.0,44394.1,43885.7,42449.5,39127.7,39375.1,38401.1,37963.8,38709.9,41937.5,39407.2,38713.0,38792.6,37743.7,39653.8,39271.0,41105.8,40898.1,41751.5,42188.2,41261.0,40982.0,42349.8,42867.9,43973.4,44290.6,44489.2,46820.8,47121.9,47418.5,47053.2,45506.0,46266.2,45794.6,46392.4,46580.9,45477.4,43159.7,43417.1,42229.2,42727.7,42140.4,39505.6,40060.7,41129.8,39915.9,40529.5,40361.0,39649.1,40785.6,41472.9,41327.7,40449.8,39674.2,39415.1,39433.4,40411.0,38093.7,39209.0,39732.5,38572.2,37614.5,38440.5,38525.6,37712.9,39684.0,36534.7,35995.3,35466.7,34032.0,30056.6,31002.1,29074.7,29020.7,29274.3,30079.8,31324.4,29866.7,30437.0,28700.6,30319.9,29188.9,29427.4,30284.0,29097.7,29643.1,29536.7,29194.0,28623.2,29018.8,29452.8,31726.5,31797.8,29796.9,30437.1,29682.8,29848.4,29909.9,31361.2,31118.1,30192.5,30093.3,29077.7,28416.7,26564.7,22471.5,22122.7,22567.5,20387.4,20457.3,18959.7,20564.2,20570.1,20713.1,19977.4,21096.6,21231.2,21481.9,21029.1,20730.0,20268.6,20109.9,19923.5,19272.0,19240.9,19305.9,20226.6,20170.0,20554.1,21613.4,21587.9,21580.0,20853.8,19954.3,19322.9,20220.1,20578.6,20823.1,21183.5,20794.4,22423.9,23385.9,23221.5,23144.5,22675.1,22440.2,22570.6,21300.0,21241.0,22941.1,23836.2,23771.1,23629.9,23290.1,23257.6,22975.1,22801.5,22608.9,23298.1,22943.3,23167.8,23804.4,23140.2,23940.9,23917.2,24387.5,24429.0,24294.1,24085.2,23843.0,23333.1,23185.1,20824.9,21127.8,21505.6,21387.0,21518.2,21354.9,21548.3,20228.7,20023.9,19547.5,20275.5,19803.1,20041.5,20122.5,19941.0,19820.7,19992.7,19784.9,18781.5,19287.0,19309.3,21352.0,21639.5,21820.3,22386.0,20162.5,20217.0,19690.8,19792.5,20102.0,19404.5,19528.6,18866.8,18447.5,19392.5,19280.7,18911.0,18799.7,19216.3,19070.1,19407.3,19582.5,19411.7,19304.0,19049.4,19622.0,20333.0,20150.0,19954.0,19520.9,19406.2,19430.0,19124.0,19055.0,19148.0,19365.5,19164.6,19060.4,19251.9,19540.6,19320.9,19116.7,19034.7,19150.9,19195.1,19560.7,19318.1,20068.3,20758.3,20285.5,20582.8,20796.7,20615.6,20482.0,20472.1,20140.1,20199.7,21137.6,21289.9,20900.0,20578.6,18534.0,15905.0,17588.0,17058.3,16806.9,16321.2,16605.2,16888.3,16650.6,16682.1,16689.7,16692.9,16272.6,15773.0,16220.6,16595.8,16592.4,16516.1,16449.2,16422.6,16204.5,16433.2,17153.3,16970.5,17083.0,16879.5,17099.5,16958.3,17078.6,16828.0,17216.0,17122.0,17120.0,17077.3,17200.0,17777.1,17803.9,17351.8,16624.1,16768.0,16730.3,16429.2,16887.2,16819.6,16815.5,16776.4,16828.9,16824.4,16912.9,16698.2,16539.0,16630.3,16601.2,16537.6,16610.3,16666.0,16667.2,16842.1,16823.8,16943.8,16936.5,17124.7,17169.7,17428.8,17935.7,18838.0,19924.2,20962.8,20882.7,21188.3,21130.9,20680.0,21068.3,22661.1,22781.9,22704.6,22913.1,22627.4,23060.6,23001.9,23068.0,23015.9,23740.3,22819.9,23119.4,23730.0,23493.1,23424.7,23322.6,22929.2,22757.7,23234.1,22955.9,21793.4,21618.6,21851.3,21771.1,21766.2,22187.4,24332.6,23526.6,24581.5,24636.9,24265.9,24849.9,24443.4,24171.3,23928.8,23175.6,23146.2,23545.3,23480.0,23129.6,23619.8,23457.1,22342.8,22335.7,22419.4,22397.1,22187.1,21695.4,20348.3,20140.3,20447.3,21986.2,24119.5,24682.5,24288.0,24990.4,27384.0,26907.0,27955.7,27704.1,28091.1,27233.8,28284.1,27438.9,27447.3,27954.3,27112.0,27249.7,28338.5,28015.0,28454.9,28443.8,28161.2,27786.1,28155.2,28154.0,28022.8,27890.7,27924.9,28309.4,29623.1,30185.1,29875.0,30362.7,30453.1,30280.4,30286.6,29420.0,30365.8,28795.1,28229.9,27252.5,27807.2,27576.0,27497.5,28286.7,28395.9,29459.0,29300.0,29212.7,29223.0,28054.4,28656.5,29018.4,28826.0,29491.5,28837.8,28419.4,27659.8,27610.2,27582.9,26956.4,26785.1,26762.7,26901.9,27152.5,27024.8,27395.8,26809.3,26870.1,27089.5,26732.8,26840.2,27209.9,26313.8,26461.8,26689.9,26841.6,28055.7,27722.0,27680.1,27201.1,26805.3,27227.8,27054.9,27102.4,25714.7,27221.5,26325.9,26485.9,26468.1,25826.6,25909.9,25894.8,25918.0,25115.9,25586.1,26336.0,26508.9,26329.7,26828.5,28290.6,29988.5,29875.0,30673.4,30524.2,30458.0,30260.1,30683.2,30066.3,30439.9,30460.2,30573.6,30612.7,31149.0,30756.1,30488.4,29874.4,30327.9,30269.3,30147.8,30396.9,30608.4,30368.9,31441.7,30293.3,30276.4,30216.8,30126.1,29845.6,29895.5,29791.0,29891.4,29783.5,30070.8,29163.8,29216.3,29336.0,29209.7,29299.9,29339.1,29271.1,29220.8,29701.2,29170.1,29180.2,29101.1,29057.7,29075.9,29202.7,29759.0,29572.8,29443.7,29415.5,29420.7,29293.3,29419.5,29188.8,28714.4,26609.7,26042.1,26088.3,26175.9,26115.4,26044.4,26419.2,26164.6,26051.7,26004.3,26087.7,26106.5,27700.1,27290.4,25928.0,25795.6,25855.8,25962.1,25814.0,25779.7,25747.4,26240.7,25899.8,25892.6,25828.4,25150.4,25825.8,26209.9,26510.3,26591.1,26546.9,26514.2,26749.9,27196.0,27107.7,26552.6,26566.7,26563.1,26232.4,26290.5,26208.8,26359.6,27011.8,26890.9,26950.9,27981.4,27477.6,27412.0,27759.8,27398.4,27916.3,27943.0,27901.2,27578.3,27381.2,26864.5,26744.0,26849.8,26836.3,27139.8,28486.3,28381.9,28307.1,28696.9,29653.0,29895.4,29981.5,33074.0,33917.0,34487.7,34154.0,33893.1,34086.6,34528.6,34483.8,34651.4,35437.4,34940.1,34700.4,35069.7,35025.5,35057.4,35406.5,35626.7,36719.5,37330.4,37162.1,37085.5,36486.2,35559.0,37885.6,36176.0,36621.9,36580.9,37375.9,37462.5,35737.0,37413.4,37294.3,37706.3,37766.6,37437.9,37234.3,37812.1,37837.1,37716.8,38660.0,39435.0,39979.7,41993.1,44081.7,43774.8,43296.0,44209.5,43734.3,43810.0,41271.0,41515.0,42875.0,43032.4,41968.0,42287.4,41396.5,42671.7,42298.3,43708.9,43896.3,43999.2,43725.2,43008.4,43611.9,42538.5,43453.8,42600.1,42095.1,42174.2,42314.0,44230.2],\"decreasing\":{\"line\":{\"color\":\"red\"}},\"high\":[7260.43,7209.59,7407.28,7400.0,7495.0,7808.65,8215.33,8468.42,8060.0,8210.62,8292.19,8195.0,8200.0,8893.0,8921.2,8868.21,9039.0,8995.0,9205.3,8750.37,8790.1,8820.0,8694.0,8528.0,8455.0,8624.45,9015.48,9436.06,9460.52,9599.0,9550.72,9477.76,9489.92,9647.61,9368.0,9799.08,9884.0,9900.0,9956.0,10184.34,10213.56,10409.96,10479.98,10540.0,10390.0,10389.75,10060.45,9971.0,10270.0,10286.0,9700.0,9759.59,9710.7,10018.9,10000.0,9686.78,9384.0,8978.0,8908.86,8799.83,8762.24,8972.0,8922.34,8853.88,9172.3,9179.75,9204.0,8897.71,8182.31,8156.31,7988.0,7969.0,5971.0,5638.42,5954.47,5361.26,5529.98,5435.0,6400.0,6911.0,6457.17,6408.91,6619.9,6840.0,6960.71,6777.5,6840.0,6354.74,6260.0,6606.15,6516.63,6693.0,7290.0,7049.11,7020.0,6893.44,7370.0,7457.0,7417.83,7365.69,7290.0,6944.28,7173.98,6900.99,6975.6,6929.0,7190.92,7140.0,7290.0,7258.42,7208.55,6940.0,7154.9,7802.38,7612.91,7722.33,7709.57,7795.6,7780.0,8988.66,9479.77,9065.0,9020.0,9200.0,8954.94,9118.17,9405.0,10080.0,10045.03,9923.98,9580.0,9164.0,8981.0,9397.0,9950.0,9843.5,9585.0,9880.0,9958.67,9900.0,9838.0,9573.0,9259.38,9300.0,9294.44,8977.0,9011.82,9230.0,9621.65,9598.0,9753.0,9698.0,10497.25,10262.3,9694.75,9884.0,9855.0,9738.77,9823.13,9816.0,9890.0,10015.99,9970.1,9550.0,9497.85,9477.0,9490.83,9595.0,9569.0,9483.85,9453.0,9394.29,9420.47,9795.0,9723.23,9678.0,9350.9,9297.16,9195.75,9188.0,9233.0,9205.0,9293.0,9262.99,9124.52,9194.0,9146.35,9379.0,9380.0,9470.0,9440.81,9317.24,9301.74,9349.0,9345.0,9279.0,9272.56,9223.0,9187.0,9210.0,9239.59,9221.0,9439.6,9543.0,9678.32,9650.0,9735.1,10300.0,11488.0,11270.0,11364.8,11195.52,11450.42,11887.45,12154.25,11483.0,11427.38,11798.56,11916.02,11920.0,11819.0,11811.0,12100.0,11944.0,11630.0,11798.0,11868.42,11993.58,11945.0,12499.42,12403.0,12037.05,11888.0,11882.68,11689.08,11724.0,11831.96,11770.0,11548.68,11593.0,11544.88,11582.0,11724.12,11784.21,12061.07,11961.0,11475.0,10635.77,10567.87,10348.97,10420.55,10443.79,10346.0,10484.6,10397.85,10477.7,10580.0,10746.06,10923.42,11089.08,11040.0,11035.0,11177.0,11073.9,10980.69,10574.08,10531.94,10837.27,10754.29,10827.8,10793.5,11024.0,10863.94,10845.99,10935.14,10660.0,10596.0,10694.0,10792.0,10792.0,10675.0,10958.0,11110.0,11494.0,11450.73,11732.0,11562.0,11550.0,11649.48,11538.92,11424.09,11529.93,11830.0,12045.78,13240.0,13188.27,13043.0,13177.59,13369.0,13240.0,13787.83,13863.0,13637.22,13665.65,14140.0,13891.52,13823.75,14070.0,14280.0,15777.0,15984.2,15774.0,15678.0,15869.0,15474.17,16000.0,16345.0,16479.99,16326.82,16161.23,16882.0,17890.1,18520.0,18200.0,18831.6,18986.0,18780.0,18812.65,19440.0,19554.19,18940.69,17465.0,17880.0,18343.0,19944.0,19956.0,19365.0,19640.0,19537.16,19203.46,19449.1,19446.36,19319.38,18639.7,18550.0,18290.44,18950.0,19432.0,19355.35,19598.0,21600.0,23888.04,23330.0,24281.61,24376.0,24145.0,23850.0,24235.42,23819.81,24827.64,26926.0,28459.84,27538.82,27441.73,29063.72,29376.7,29668.86,33480.0,34832.25,33653.56,34500.0,37037.51,40565.62,42125.51,41539.88,41412.12,38322.18,36693.44,37880.0,40189.39,39790.0,38000.0,36898.0,37547.94,37961.0,36461.44,35636.17,33831.52,33495.0,33125.75,34880.0,32950.0,32562.2,33778.95,38641.1,34988.88,34393.22,34720.0,36041.0,37700.0,38833.0,38411.82,40992.4,39757.87,47146.0,48266.36,47475.0,48810.0,49278.98,48290.0,49875.16,49100.0,50953.44,52800.0,52640.0,56582.0,57699.0,58472.14,57591.87,54260.12,51435.58,52134.96,48438.01,48476.05,46678.0,49800.0,50221.77,52681.51,51800.0,49470.0,49253.63,51480.0,52450.0,54950.0,57500.92,58283.0,58186.33,61950.0,61798.0,60740.0,56988.0,59078.79,60510.0,59550.0,59948.0,58638.7,58500.0,55890.68,57234.79,53255.2,55123.0,56658.76,56588.31,58490.11,59560.0,59920.0,59592.22,60397.85,59925.0,58553.0,59385.0,59626.18,58720.0,58200.0,58950.0,61800.0,60816.88,61449.91,63850.0,64986.11,63905.83,63600.0,62610.0,60450.0,57532.7,57060.0,56756.78,55470.51,52152.0,51183.51,50577.9,54364.89,55500.0,56574.13,55222.02,57935.0,58488.17,57959.97,59056.59,57253.76,57940.0,58450.0,58800.0,59590.96,59335.19,59654.0,56908.66,58049.99,51358.0,51533.0,50709.43,49829.39,46655.0,45846.61,43615.93,42460.0,42270.42,38851.34,38261.71,39917.09,39790.05,40900.0,40438.82,38888.35,37375.0,36501.0,37500.0,37893.76,38232.99,39470.0,39297.35,37900.49,36521.16,36820.0,34061.57,37511.31,38489.0,37679.54,37432.95,39374.18,41000.0,41413.0,40495.0,39565.0,38198.0,36471.8,36155.0,35746.28,33274.0,34867.77,35406.74,35500.0,32720.52,34762.0,35279.38,36623.0,36089.96,35044.98,33960.0,34948.16,35955.55,35281.55,35120.0,35089.56,33910.0,34100.0,34248.58,34629.62,34662.73,33336.0,33176.47,33170.0,32245.0,31945.0,32435.93,31890.0,31050.0,32883.9,32583.48,33650.0,34471.0,35400.0,48168.6,39546.34,40894.0,40665.0,42316.6,42494.0,42614.98,40450.0,39774.93,39975.32,41350.0,43400.0,44753.01,45350.0,46483.0,46800.0,46754.27,46226.67,47980.69,48300.0,47388.75,48074.23,47194.0,46050.0,47100.0,49500.0,49833.0,49556.2,50600.0,49888.88,49297.8,49380.0,49220.0,49333.0,49769.2,48916.25,48298.0,49160.79,50420.0,51111.0,50582.08,51950.0,52830.0,52950.0,47347.0,47400.0,47037.5,45999.0,46512.2,46933.89,47272.98,48440.93,48488.0,48150.0,48850.0,48364.64,47345.0,43629.6,43989.98,44976.48,45134.33,42950.0,43940.0,44350.0,42749.0,42576.8,44100.0,48450.0,48338.68,49304.12,49544.48,51888.0,56416.02,55337.8,56208.73,55589.0,56789.0,57880.0,57756.52,57822.38,58586.67,63997.61,62444.23,61796.47,62800.0,64500.0,67150.0,66750.0,63796.2,61780.0,61550.0,63795.98,63362.06,61550.0,62641.26,63069.71,62415.85,62462.99,62543.58,64349.55,63613.0,63149.0,62671.48,61645.75,63377.58,67932.89,68675.16,69198.7,65646.98,65500.0,65073.24,65569.99,66395.05,63655.77,60848.85,60999.0,58333.0,59873.84,60052.82,59624.56,57888.0,57775.27,59449.62,59186.41,55300.0,57474.76,58924.21,59224.99,59100.0,57428.49,57670.0,53889.69,49699.49,50888.0,51929.0,51210.6,50773.03,50188.42,49499.05,50768.0,50180.0,48657.92,49479.75,49439.79,47988.27,47336.99,48461.17,47533.42,49298.78,49599.0,51377.74,51805.0,51190.0,51300.0,52134.0,50713.56,48125.97,47911.68,48575.0,47943.77,48000.0,47575.22,47524.36,47075.29,43766.0,43135.0,42335.0,42773.85,42219.84,43118.0,44300.0,44396.68,43450.0,43800.0,43464.71,43159.32,42680.0,42545.0,43495.0,41095.76,36817.74,36496.92,37528.0,37561.03,38886.58,37200.0,38000.0,38750.94,38420.3,38741.73,39260.26,38834.18,37395.0,41741.76,41922.0,42656.8,44541.16,45600.0,44826.0,45847.5,43900.0,42980.0,42755.97,42888.0,44777.0,44536.8,44150.0,40944.1,40438.7,40100.1,39510.0,38450.0,39250.0,40376.1,39750.0,40441.1,39868.6,44341.0,44935.0,45350.0,44080.0,42525.3,39580.0,39690.0,39550.0,39340.5,42647.5,42034.3,40242.0,39578.4,39300.0,39989.0,39901.8,41804.0,41498.4,42322.8,42446.6,42269.3,41544.4,43517.7,43051.0,44200.0,45142.0,44785.0,47047.0,48200.0,48100.0,47688.6,47619.4,46700.0,47236.8,47448.0,46895.5,47188.0,45494.2,43888.0,43968.1,42796.7,43399.4,42399.9,40700.0,41580.0,41474.8,40888.0,40700.0,40574.1,41310.0,41788.0,42166.8,42966.0,40786.1,40000.0,39930.6,40650.0,40800.0,39470.0,40376.6,39924.8,38782.6,38680.6,39222.0,38674.7,40071.7,39845.0,36679.3,36138.0,35504.0,34243.3,32650.0,32197.6,30257.0,31072.6,30352.2,31462.0,31327.4,30794.0,30700.0,30550.0,30784.4,29650.0,30500.0,30658.0,29887.3,30246.7,29877.0,29387.0,29265.7,29595.2,32307.6,32427.5,31986.1,30750.0,30693.2,29988.0,30250.0,31780.0,31599.0,31325.0,30691.9,30374.1,29427.9,28530.3,26877.0,23424.2,22800.0,23000.0,21388.0,20768.4,20821.0,21099.9,21740.0,20888.0,21250.0,21563.5,21627.6,21888.0,21560.0,21198.0,20430.0,20165.0,20926.4,19456.0,19645.4,20350.0,20749.2,20667.6,21830.0,22579.9,22000.0,21594.2,20853.9,20048.9,20401.6,20900.0,21200.0,21580.0,21674.1,22800.0,23817.9,24277.0,23441.1,23750.0,22990.0,22999.0,22656.8,21334.4,23100.0,24194.6,24500.0,24700.0,24187.3,23497.0,23448.7,23650.0,23211.3,23450.0,23341.8,23400.0,24243.0,23913.4,24235.2,24972.0,24438.8,24879.0,25065.0,25200.0,24234.0,24437.0,23595.0,23200.0,21368.9,21804.6,21550.0,21667.2,21925.6,21810.9,21867.6,20367.7,20155.0,20440.0,20574.0,20496.0,20198.3,20434.3,20050.0,20022.4,20046.7,20174.7,19455.0,19450.0,21666.0,21825.0,21883.4,22474.0,22850.0,20528.5,20315.0,19878.0,20182.6,20105.3,19686.3,19625.0,20154.1,19504.8,19492.0,19304.5,19196.0,19311.5,20375.0,19787.6,19648.8,20172.7,19474.0,19389.0,19723.7,20500.0,20356.1,20443.9,20067.0,19619.6,19550.0,19513.0,19260.0,19240.0,19498.6,19947.9,19218.8,19415.9,19666.0,19706.4,19349.8,19350.0,19240.0,19250.0,19690.0,19593.3,20415.0,21030.0,20863.7,20740.0,21088.0,20925.2,20838.7,20687.0,20796.0,20400.0,21297.0,21473.7,21355.8,21062.6,20685.0,18574.9,18230.0,17678.0,17110.8,16950.0,17188.0,17127.2,17007.4,16741.7,16984.4,16814.5,16743.9,16304.3,16309.0,16703.4,16800.0,16639.9,16699.1,16594.2,16475.0,16543.0,17248.3,17348.5,17096.3,17160.0,17206.2,17430.0,17100.0,17130.0,17294.9,17365.4,17228.6,17265.0,17237.9,18100.0,18400.0,17849.5,17528.0,16790.0,16872.0,16809.6,17049.6,16924.2,16861.9,16960.0,16859.9,16850.0,16936.8,16968.0,16778.3,16659.0,16666.6,16640.0,16618.8,16799.0,16774.0,16984.6,16872.8,17030.0,16973.6,17181.1,17387.8,17485.4,18013.2,19120.0,19997.8,21544.0,21073.8,21498.0,21640.0,21672.0,21183.9,22750.0,23390.0,23080.2,23193.1,23158.7,23837.4,23278.7,23500.0,23185.0,23962.7,23804.6,23330.0,23852.4,24281.4,23719.9,23591.4,23436.0,23159.4,23368.6,23450.0,23007.8,21933.8,21891.9,22080.9,21888.0,22320.0,24420.0,25290.0,25043.2,24887.5,25200.0,25140.0,25347.6,24468.5,24588.0,24138.6,23210.5,23675.0,23888.0,23592.8,24022.7,23790.5,23468.5,22400.0,22650.0,22594.5,22550.0,22276.4,21823.0,20351.8,20674.5,22184.0,24517.2,26489.9,25200.0,25167.9,27763.4,27726.4,28397.0,28483.2,28460.0,28881.0,28777.0,28369.1,27788.0,28186.9,28019.4,27500.0,28649.9,29184.8,28675.3,28845.3,28516.5,28540.0,28450.0,28800.0,28175.0,28096.0,28153.6,28539.1,29840.0,30564.0,30480.0,30648.9,31059.0,30599.9,30560.0,30307.4,30480.0,30410.0,29078.0,28368.9,27888.0,27807.3,28000.0,28379.9,30048.2,29898.0,29591.1,29443.9,29950.0,29325.5,28888.0,29258.4,29380.0,29693.0,29840.0,29137.0,28624.6,27815.6,28297.0,27630.0,27090.0,27051.5,27200.0,27650.0,27284.7,27500.0,27482.7,27180.0,27144.4,27288.0,27097.8,27527.5,27212.9,26644.0,26925.0,26890.0,28252.8,28442.0,28038.6,27825.0,27347.9,27290.0,27340.2,27460.0,27125.0,27358.1,27394.4,26800.0,26775.0,26525.0,26199.0,26097.7,26430.5,26099.3,25750.0,26526.9,26900.0,26709.4,27077.0,28397.8,30822.0,30488.0,31500.0,30796.5,31053.2,30667.3,30998.5,30701.8,30837.0,31300.0,30668.2,30800.0,31395.2,31319.4,30875.2,31568.0,30443.6,30380.0,30443.4,31040.0,30804.9,30980.5,31850.0,31640.0,30380.0,30441.6,30329.7,30227.5,30178.5,30420.0,30056.2,29986.0,30368.2,30091.7,29379.5,29670.5,29558.4,29535.7,29397.9,29442.5,29525.8,29735.0,30059.9,29440.0,29323.8,29145.0,29199.0,29274.5,30250.0,30149.7,29729.8,29565.1,29470.0,29463.0,29686.7,29492.1,29257.4,28775.9,26818.0,26269.4,26285.0,26280.0,26128.2,26806.0,26568.3,26300.0,26129.4,26173.6,26244.6,28168.0,27758.2,27674.3,26151.6,25975.0,26135.2,26099.3,25900.0,26052.0,26451.0,26437.5,25940.6,26037.3,25895.0,26580.0,26400.0,26880.0,26890.0,26763.5,26614.3,27397.0,27480.0,27381.0,27149.0,26737.7,26620.6,26739.9,26440.0,26388.0,26849.9,27308.7,27231.5,27085.0,28365.2,28613.0,27665.0,27830.0,28110.0,28450.0,28018.7,28082.0,27977.0,27727.3,27467.6,26939.0,27120.8,26986.4,27456.1,30720.0,28605.0,29100.0,28933.4,30243.0,30374.6,30229.7,35981.9,35300.0,35154.3,34828.7,34253.3,34535.8,34773.8,34888.2,34744.7,35734.0,35999.9,34944.9,35270.0,35455.2,35299.9,35921.7,36150.0,38499.9,37570.0,37422.2,37258.4,37464.8,36779.9,38000.0,37956.5,37020.5,36900.0,37528.2,37784.7,37675.0,37880.0,37650.0,38425.0,37886.5,37807.6,37560.0,38395.0,38500.0,38132.0,38989.0,39900.0,40410.1,42440.0,44528.1,44349.8,44066.7,44779.3,44389.2,44099.2,43833.4,42125.0,43517.6,43450.1,43098.0,42756.7,42476.0,42795.3,43550.0,44384.6,44287.2,44484.0,44023.0,43994.8,43850.0,43635.1,43700.0,43850.0,43171.9,42654.6,42951.0,44266.0],\"increasing\":{\"line\":{\"color\":\"green\"}},\"low\":[7170.15,6922.0,6863.44,7269.21,7303.0,7345.0,7733.0,7870.11,7750.01,7670.0,8003.87,7956.28,8053.78,8109.02,8570.52,8596.25,8680.0,8816.0,8440.91,8526.06,8448.6,8585.85,8326.0,8247.0,8272.0,8300.0,8565.0,8905.0,9242.0,9210.42,9220.0,9306.0,9160.01,9250.0,9105.0,9179.88,9550.0,9736.66,9680.55,9892.15,9750.0,9729.36,10229.71,10101.0,10123.37,9752.3,9626.64,9461.89,9598.0,9293.07,9382.59,9547.0,9565.0,9657.0,9487.38,9247.0,8610.0,8533.9,8450.0,8530.0,8409.0,8504.95,8657.41,8669.23,8755.98,8994.14,8850.0,7997.7,7635.21,7733.0,7593.29,4347.0,3621.81,5040.0,5089.12,4413.62,4913.49,4982.75,5246.5,5650.0,5854.01,5730.35,5670.0,6369.0,6436.26,6500.0,6230.0,6004.0,5857.6,5850.0,6320.0,6140.0,6542.73,6600.0,6629.99,6668.02,6760.0,7070.43,7145.14,7105.98,6741.0,6757.29,6775.66,6558.0,6751.0,6602.59,6465.33,6981.0,7008.11,7055.0,6735.95,6759.16,6812.57,7020.0,7388.0,7433.0,7476.86,7623.98,7662.49,7710.0,8400.0,8619.84,8755.01,8727.24,8526.0,8766.12,8916.01,9022.0,9726.0,9528.23,7940.0,8151.12,8520.43,8790.04,9250.66,9100.0,9210.03,9317.16,9450.0,9462.0,9281.42,8812.2,8920.0,9076.9,8674.0,8623.38,8693.18,8811.0,9110.97,9317.42,9326.01,9371.76,9420.85,9264.15,9382.33,9440.0,9580.52,9528.0,9373.0,9631.0,9550.03,9681.21,9055.07,9238.0,9340.0,9240.97,8888.43,9370.0,9231.03,9272.41,9239.0,9165.0,9279.0,9273.0,9585.0,9210.0,9005.0,9038.52,8816.4,8932.68,9022.0,9063.97,9090.0,8936.0,9036.06,9042.84,8900.0,9058.1,9201.23,9233.47,9164.33,9121.42,9178.91,9155.0,9200.0,9116.0,9156.0,9044.02,9087.0,9121.98,9108.0,9131.01,9152.62,9272.0,9439.86,9470.0,9526.31,9655.2,9928.61,10580.0,10844.34,10826.55,10971.78,11201.0,10490.0,10923.0,11025.0,11103.0,11571.78,11318.93,11513.69,11526.9,11384.9,11127.0,11140.0,11272.0,11644.6,11682.0,11688.0,11780.0,11810.0,11574.78,11676.03,11491.0,11385.06,11522.15,11595.0,11130.0,11255.95,11130.82,11283.19,11419.34,11457.88,11575.78,11531.34,11156.0,9901.16,9878.65,9808.58,10003.0,9879.68,9842.01,9981.13,10211.67,10200.8,10271.0,10209.01,10241.57,10592.0,10661.9,10740.0,10810.1,10880.0,10751.0,10281.0,10353.1,10132.21,10191.0,10551.56,10642.23,10584.0,10627.19,10631.49,10660.05,10442.0,10371.03,10491.11,10514.0,10608.9,10510.66,10540.29,10523.0,10818.44,11050.46,11273.77,11157.0,11308.0,11280.5,11250.0,11175.0,11250.0,11342.54,11404.01,11673.0,11876.0,12675.5,12725.04,12871.07,12715.0,12729.0,13041.3,12876.0,12965.0,13100.0,13403.36,13605.9,13195.0,13276.33,13512.0,14088.01,15177.0,14350.0,14710.0,14822.0,15071.0,15274.89,15437.7,15955.6,15700.0,15768.0,15862.0,16550.0,17215.03,17347.27,17748.92,18302.08,17645.98,18013.97,18000.0,18509.12,16181.0,16444.83,16865.78,17523.0,18178.82,18050.0,18329.58,18865.0,18570.0,18510.0,18855.35,18908.66,18133.33,17650.0,17916.0,17555.0,18012.21,18705.46,19004.72,19039.64,19274.55,21231.5,22363.94,22735.81,23076.25,21920.0,22387.0,22572.52,22700.0,23450.0,24507.24,25850.0,26117.1,25913.01,27401.0,27848.0,28627.12,28958.24,32000.02,27800.0,29900.0,33356.46,36337.36,36539.77,38733.28,35268.0,30448.0,32600.0,32420.0,36764.33,34478.0,35366.0,33863.5,34808.47,35850.0,33403.0,30069.9,28880.0,31405.0,30914.2,31921.47,30810.0,29240.0,29843.33,31960.0,32849.06,32193.04,32322.47,33450.0,35410.0,36233.0,36586.68,38269.0,37403.27,38037.0,45057.65,43770.0,44038.97,46121.0,46252.1,47093.16,45349.21,47101.02,49029.62,50948.0,50800.0,53905.0,55564.5,47751.42,44893.82,47000.0,46685.43,44100.0,44926.77,43002.05,44972.49,47058.06,48110.66,47500.0,46320.0,47090.0,48908.21,49310.0,51880.0,53061.0,54356.44,55074.3,56136.0,59005.0,54517.28,53335.0,54154.93,57072.0,56301.27,57881.0,55403.55,53635.81,52981.4,51666.0,50452.08,51260.0,54001.0,54694.91,54931.15,57110.0,56812.0,58002.0,58490.03,56900.0,56517.23,56808.94,57500.0,55536.07,55759.13,57700.0,57943.95,59304.02,59500.0,59873.01,61404.0,62157.89,60100.0,59620.0,50050.0,54200.0,53330.82,53610.0,50534.34,47546.16,48690.0,46930.43,48763.0,53225.14,53852.0,52350.0,53043.62,57051.23,56100.0,56500.65,53094.59,52880.38,55297.91,55300.0,56961.25,56316.0,53250.0,54541.33,48503.74,45596.32,48870.41,46584.32,43866.0,42151.0,42268.0,28688.0,34882.0,33400.0,35201.11,31096.7,34366.0,36439.32,37804.76,37133.22,34689.57,33650.0,33356.0,34150.0,35500.0,35905.0,37150.15,35552.51,34800.0,35201.86,33200.0,30969.0,32390.0,35750.0,35900.0,34585.9,34739.06,38720.0,39500.0,38105.0,37334.76,35100.0,34704.08,33312.0,31250.51,28780.01,31711.5,32300.0,31250.0,30120.0,31960.0,33855.0,34206.0,34042.74,32672.04,32684.0,33296.98,34340.75,33032.0,33500.0,33756.48,32066.0,32250.0,33010.0,33306.03,32650.0,32186.99,31556.02,31140.0,31018.59,31150.02,31075.1,30358.77,29242.24,29472.41,31700.0,31970.82,33379.81,33812.0,35185.49,36384.31,38753.0,39203.83,38320.0,41030.19,39350.4,38658.0,37600.0,37500.0,37291.0,39849.82,42395.2,43265.0,42785.0,44670.05,45354.0,43800.0,44208.88,46000.0,45480.0,45682.03,44412.01,44227.32,43938.38,46650.0,48250.0,48075.81,49075.01,47600.0,47130.57,46280.0,46359.97,48395.65,47741.31,46876.49,46731.03,46550.99,48631.2,48333.0,49360.0,49462.59,51040.0,42088.0,44431.0,45500.0,44120.0,44737.4,44746.51,43323.93,44692.9,46675.0,47038.21,46750.0,47044.32,46840.0,42467.86,39503.58,40551.49,43056.0,40650.0,41630.26,40725.01,42059.13,40854.0,40708.73,41387.78,43260.01,47410.0,47071.26,46885.29,49009.21,50410.0,53374.34,53647.3,53656.66,54101.0,54458.0,53750.0,54271.24,56800.0,56900.0,60220.0,58850.0,59897.61,61300.0,63518.81,62000.0,60011.9,59622.0,59504.46,60701.0,59838.05,57865.0,57550.0,60222.0,60631.23,60008.0,59400.0,60659.58,60300.0,60703.0,60762.0,60100.0,61368.26,63308.7,66300.0,62400.51,64147.12,62313.0,63430.01,63640.0,63351.58,58397.14,58336.68,56505.48,55604.0,57372.0,58518.88,55600.0,55250.0,55900.0,57029.0,53500.0,53640.69,53245.0,56715.0,55900.0,56500.0,55800.0,50604.0,40888.89,47755.0,47000.0,50012.0,48533.33,47312.89,46828.23,46724.35,48616.16,45600.0,46255.6,46518.73,47500.0,45373.11,45438.43,46399.37,45530.67,46650.0,48420.02,48020.0,50379.25,50105.0,49350.0,50450.0,47290.0,46000.0,45880.0,45650.0,46210.55,46605.68,45665.4,45445.57,42270.0,42385.83,40456.56,40500.0,41170.0,39610.0,41255.0,42415.0,42301.16,41666.0,42530.64,42531.69,41523.68,41260.0,41115.64,40550.0,35380.92,33950.0,34588.8,32853.83,35693.0,36232.42,35471.53,36149.02,37252.0,37334.83,36620.0,37969.0,36529.81,36204.3,37011.0,40920.0,41100.0,41609.76,42641.0,43089.08,43136.96,41914.23,41540.0,41850.0,41526.0,42406.23,43277.8,40020.1,39422.0,39610.3,37905.0,36762.0,36310.1,36963.2,34303.7,37999.2,38561.7,36934.6,37414.4,42765.4,43321.0,41831.0,38521.0,38547.6,38056.0,37134.0,37853.0,38638.7,38512.0,38200.1,38630.0,37500.0,37522.1,38073.8,38700.0,40442.8,40084.2,41500.0,40900.0,40430.0,40852.0,41731.3,42525.0,43575.1,44041.0,44416.0,46651.2,46911.0,46535.0,45185.0,44206.2,45600.0,45501.0,45094.0,45300.0,43100.0,42685.0,42074.0,42100.3,41838.0,39136.7,39224.0,39569.8,39522.0,39734.2,39944.9,39510.0,38465.7,40543.7,40800.0,39630.0,39133.0,39259.0,38884.1,38111.0,37671.8,37844.5,38861.8,38160.0,37550.0,37350.0,38032.2,37500.1,37655.2,35388.0,35200.0,34700.0,33665.0,30003.6,29701.4,27651.0,26631.0,28730.4,28602.3,29448.0,29052.3,29420.0,28629.6,28670.5,28702.0,28927.0,29223.6,28840.7,28637.6,29330.0,27952.1,28259.6,28520.0,28825.0,29301.1,31222.0,29300.0,29566.1,29220.0,29456.0,29524.0,29876.2,29190.0,29825.0,29914.5,28805.0,28080.0,26538.7,21900.0,20823.0,20100.2,20222.0,20228.0,17593.2,17935.9,19630.0,20337.8,19745.7,19874.0,20732.5,20894.0,20952.0,20500.0,20188.0,19817.2,18563.0,18948.8,18959.0,18780.1,19046.3,19291.6,19753.0,20244.9,21175.2,21309.6,20600.0,19870.0,19228.3,18901.0,19600.0,20364.3,20471.0,20742.0,20764.4,21575.0,22912.4,22340.2,22500.0,21933.5,22256.4,21232.0,20689.6,21031.0,22583.1,23426.3,23505.0,23222.0,22836.2,22603.0,22665.3,22370.0,22580.6,22883.6,22830.9,23153.1,22850.0,22608.0,23840.6,23560.0,24267.5,24138.0,23762.0,23650.0,23170.0,23101.0,20760.0,20742.9,21055.0,20858.6,20874.8,21132.3,21295.3,20100.0,19744.0,19508.0,19539.4,19524.4,19787.9,19555.0,19736.0,19628.7,19570.0,19620.2,18600.0,18500.0,19003.8,19283.0,21112.2,21336.0,21540.0,19840.0,19600.0,19453.0,19300.0,19739.4,19325.8,18215.0,18690.1,18084.3,18345.2,18518.5,18798.0,18621.0,18671.0,18801.5,18460.0,18827.2,19066.0,19140.0,18896.0,18950.8,19480.1,19707.0,19843.3,19304.4,19200.0,19310.0,19000.0,18850.0,18924.3,17917.8,19059.6,18966.0,19058.0,19148.0,19081.0,19050.0,18882.4,18600.0,19103.5,19050.0,19146.0,19228.0,20041.1,20170.0,19951.0,20547.8,20503.0,20225.4,20320.0,20050.0,20026.0,20171.6,21071.1,20863.3,20374.0,16830.0,15462.6,15730.0,16343.0,16623.8,16210.3,15805.5,16516.7,16358.0,16403.3,16541.1,16543.8,16167.1,15443.2,15610.3,16155.5,16450.0,16331.7,16369.1,16396.0,15984.1,16088.0,16421.5,16851.2,16760.0,16850.1,16874.1,16860.6,16899.9,16655.0,16710.4,17052.0,17081.0,17060.0,16865.0,17076.0,17659.4,17258.0,16521.1,16571.8,16656.0,16210.0,16390.3,16694.2,16556.1,16690.0,16774.4,16700.0,16781.1,16580.0,16455.6,16485.1,16320.0,16461.8,16488.0,16541.2,16600.3,16645.7,16740.4,16664.8,16900.1,16905.0,17098.2,17140.4,17306.4,17902.4,18711.0,19882.6,20556.0,20606.6,20827.8,20386.0,20659.9,20856.4,22422.0,22287.0,22500.0,22450.0,22310.5,22843.8,22516.6,22870.8,22961.5,22484.2,22715.3,22747.0,23365.0,23201.0,23250.0,22741.0,22600.0,22742.4,22662.9,21684.7,21405.0,21594.4,21618.0,21338.0,21485.2,22038.5,23518.0,23350.0,24430.6,24179.4,23827.0,24150.0,23572.0,23590.0,22800.0,22700.0,23050.0,23088.0,23010.0,23008.4,23183.0,21883.2,22147.5,22174.9,22240.1,21908.0,21540.5,20003.5,19521.6,19752.5,20262.2,21804.0,23951.0,23888.0,24120.5,24875.3,26555.5,26815.9,27120.6,27288.0,26590.0,27101.0,26960.0,27131.8,27400.0,26480.0,26610.0,27223.6,27654.1,27500.0,28180.0,27820.0,27166.0,27650.2,27775.0,27684.2,27755.0,27850.1,27762.8,28153.6,29573.9,29620.0,29836.7,29925.0,30186.0,30102.0,29219.9,29078.1,28557.3,27983.0,27100.0,27126.0,27279.7,26919.3,27176.6,27200.0,28365.3,28870.0,29000.4,29067.4,27650.0,27854.0,28080.0,28660.0,28618.3,28333.0,28370.0,27250.0,27316.8,26666.6,26688.8,25751.0,26674.9,26557.0,26694.4,26832.0,26527.5,26335.3,26611.2,26813.5,26642.0,26500.0,26782.6,26060.0,25850.0,26313.9,26528.6,26746.0,27513.5,27530.0,26826.0,26600.0,26477.6,26900.0,26935.3,25360.1,25321.6,26111.0,26195.4,26236.0,25300.0,25621.3,25600.0,25708.0,24796.8,24777.0,25142.1,26170.8,26230.9,26241.2,26633.9,28236.4,29500.1,29792.0,30222.0,30252.6,29890.1,30213.0,29804.6,30036.1,29500.0,30311.3,30149.9,30559.4,30600.0,30175.8,29818.0,29680.0,30026.8,30042.0,29928.8,30261.4,30186.0,30233.0,29876.6,30220.2,30050.0,29630.0,29400.0,29745.0,29468.8,29705.9,29602.2,29718.9,28830.0,29033.0,29083.0,29065.5,29112.8,29237.5,29006.0,29100.0,28550.0,28906.3,28955.4,28780.0,28960.0,28978.5,28682.3,29132.4,29362.0,29303.7,29220.0,29360.0,29256.6,29070.0,29050.0,28705.1,24581.0,25600.0,25783.4,25948.5,25800.0,25280.0,25800.0,25835.0,25754.4,25969.0,25955.6,25850.4,25905.2,26950.0,25617.8,25312.0,25740.6,25777.0,25610.0,25531.2,25326.0,25602.3,25630.0,25781.5,25508.7,24888.0,25116.4,25750.0,26106.6,26206.6,26430.0,26377.4,26358.6,26653.2,26740.0,26360.1,26452.9,26492.2,26081.0,25965.0,26073.8,26050.0,26325.2,26625.0,26870.4,26939.0,27255.0,27123.0,27163.9,27333.5,27156.0,27822.1,27671.0,27250.0,27281.0,26525.0,26534.8,26670.1,26773.1,26790.4,27095.4,28055.0,28126.6,28076.0,28560.0,29443.5,29606.6,29869.4,32833.5,33660.6,33750.0,33350.0,33867.4,33933.0,34050.0,34016.8,34076.0,34300.0,34123.0,34571.6,34356.0,34743.2,34520.3,35073.0,35304.0,36350.0,36588.0,36753.6,36350.0,34446.3,35388.0,35486.1,35868.3,36196.0,36380.0,36600.0,35720.0,35610.7,36856.3,37257.3,37570.9,37126.0,36700.0,36856.0,37551.8,37442.9,37600.0,38613.5,39255.2,39970.4,41393.5,43377.0,42815.0,43100.0,43555.0,43552.5,40228.3,40711.0,40556.0,41140.0,41668.0,41638.1,41248.3,40553.8,41835.4,42218.3,43317.2,43430.4,43304.2,42550.0,42755.4,41597.0,42145.7,42320.5,41283.2,41550.0,42001.0,42207.9],\"name\":\"Candlestick\",\"open\":[7189.43,7197.57,6962.34,7341.6,7350.54,7354.36,7757.74,8150.9,8059.77,7817.91,8207.2,8020.58,8186.22,8112.99,8825.0,8825.35,8724.99,8918.73,8925.0,8705.98,8650.0,8742.78,8684.47,8410.0,8442.82,8344.37,8611.21,8913.61,9399.72,9311.23,9525.67,9364.5,9392.99,9340.49,9300.63,9198.32,9630.0,9777.97,9821.52,9906.09,10167.37,9865.56,10230.74,10339.64,10240.02,10356.27,9914.31,9921.87,9716.0,10174.53,9593.31,9601.51,9681.39,9658.95,9943.12,9662.88,9326.0,8793.96,8827.12,8699.86,8532.5,8537.84,8919.7,8765.0,8755.98,9062.62,9139.77,8895.62,8038.99,7932.45,7898.21,7938.39,4762.28,5569.84,5167.21,5354.81,5027.11,5306.42,5389.94,6159.41,6204.47,6183.84,5810.3,6463.21,6740.86,6673.57,6733.76,6353.64,6231.81,5876.27,6389.52,6407.1,6641.22,6791.65,6729.8,6851.4,6768.9,7325.73,7192.9,7357.15,7278.83,6858.0,6874.17,6900.19,6834.01,6864.11,6616.88,7098.15,7022.0,7242.49,7118.04,6825.28,6838.0,7120.06,7483.36,7504.62,7534.01,7693.63,7774.0,7735.76,8784.05,8623.61,8830.52,8975.18,8899.99,8873.99,9022.76,9148.29,9994.74,9809.63,9550.25,8723.23,8560.73,8808.71,9305.91,9787.62,9311.21,9374.99,9677.31,9731.11,9772.66,9508.0,9060.0,9166.43,9176.32,8711.37,8895.66,8837.88,9197.32,9569.58,9422.11,9694.38,9446.49,10232.41,9514.9,9663.58,9788.32,9616.64,9664.01,9743.92,9778.87,9771.66,9884.99,9277.72,9458.77,9468.55,9339.7,9422.01,9519.13,9458.45,9381.99,9307.0,9353.84,9293.39,9686.99,9631.65,9298.78,9246.75,9159.99,9008.0,9114.01,9189.99,9138.88,9233.29,9087.72,9058.07,9137.18,9071.87,9339.59,9258.51,9436.08,9236.29,9288.39,9233.5,9300.7,9241.18,9254.17,9197.75,9132.0,9151.7,9171.79,9210.68,9161.28,9388.0,9518.25,9604.41,9539.7,9701.54,9939.68,11047.58,10919.94,11113.01,11111.97,11343.67,11811.43,11080.7,11227.07,11200.06,11752.5,11769.97,11596.26,11765.72,11685.99,11896.86,11392.64,11568.37,11790.0,11767.89,11858.91,11921.32,12298.06,11962.03,11763.88,11858.53,11538.53,11670.48,11654.0,11753.29,11327.18,11466.22,11335.83,11526.85,11466.27,11714.13,11658.11,11930.17,11396.44,10141.4,10448.0,10168.23,10258.13,10379.3,10130.0,10219.29,10335.91,10387.81,10438.29,10327.72,10664.1,10776.88,10948.16,10935.97,10926.3,11073.2,10915.52,10414.73,10523.32,10237.91,10724.91,10683.5,10726.5,10768.0,10691.94,10836.99,10773.0,10612.62,10565.44,10537.96,10660.16,10784.99,10593.65,10658.75,10919.45,11050.46,11294.78,11369.59,11530.37,11419.36,11417.12,11502.0,11319.51,11356.25,11501.5,11744.99,11900.03,12796.06,12970.39,12925.82,13110.88,13024.21,13047.24,13629.89,13255.79,13446.65,13549.12,13783.73,13752.87,13541.55,14016.55,14134.32,15598.74,15590.95,14824.33,15473.2,15328.72,15294.68,15690.24,16289.01,16320.54,16064.51,15951.93,16707.0,17670.01,17788.32,17811.68,18662.85,18721.99,18434.17,18382.07,19178.53,18741.66,17155.37,17144.11,17717.74,18180.43,19722.09,18770.33,19207.01,19432.66,18662.72,19147.63,19375.0,19172.87,18319.33,18537.97,18254.0,18031.71,18800.0,19175.06,19270.71,19424.9,21346.81,22816.99,23124.35,23847.28,23472.96,22736.05,23826.74,23237.73,23738.75,24729.99,26508.84,26301.76,27101.45,27402.83,28906.99,28948.19,29337.15,32198.41,33053.93,32029.55,33999.51,36825.77,39498.32,40638.91,40136.05,38200.01,35406.92,34065.53,37416.34,39163.31,36755.25,36025.65,35875.72,36690.0,35891.74,35499.23,30875.77,32990.08,32086.48,32274.88,32253.68,32474.81,30382.96,33399.99,34267.04,34284.76,33125.11,33546.08,35504.07,37651.92,36975.19,38357.17,39249.53,38849.24,46451.32,46492.53,44850.0,48060.21,47364.0,47221.63,48655.21,47981.6,49197.93,52194.62,51612.46,56005.85,55908.45,57475.5,54125.55,48930.01,49702.05,47087.97,46313.12,46097.09,45162.64,49594.99,48454.21,50373.75,48385.77,48772.68,48908.21,50991.35,52429.43,54917.78,55949.3,57842.64,57291.04,61267.41,59037.11,55646.61,56953.23,58959.01,57700.01,58089.11,58144.44,57415.19,54129.56,54400.0,52307.89,51325.21,55030.0,55828.0,55804.16,57676.14,58794.17,58810.99,58797.56,59028.99,57134.65,58234.61,59243.4,58060.0,56018.17,58122.93,58176.04,59832.43,60093.26,59911.19,63645.05,63018.34,63232.56,61424.67,60090.14,56140.05,55634.38,56411.25,53794.72,51714.62,51122.63,50094.27,49063.94,53984.34,55006.25,54861.76,53558.57,57688.29,57836.35,56630.34,57214.84,53263.32,57497.76,56435.35,57350.89,58926.36,58292.53,55869.41,56712.7,49596.75,49706.27,49873.26,46794.62,46429.28,43565.11,42882.54,36689.14,40500.0,37210.01,37436.0,34656.53,38783.58,38326.84,39224.21,38527.38,35670.99,34611.95,35651.8,37244.36,36694.37,37570.0,39247.4,36828.03,35497.93,35801.71,33550.97,33372.58,37369.99,36669.65,37300.41,35535.95,38993.66,40489.1,40132.86,38344.97,38060.71,35811.41,35483.01,35588.63,31606.0,32496.0,33650.0,34644.65,31569.18,32250.15,34687.71,34486.58,35910.64,35031.39,33489.96,33760.94,34653.32,35280.17,33672.72,34206.0,33845.63,32855.0,33805.01,33497.98,34253.88,33070.86,32708.66,32803.0,31865.53,31382.96,31496.65,31765.23,30823.62,29775.89,32120.0,32268.12,33631.74,34230.0,35370.67,37218.09,39448.06,40003.08,40012.89,42202.6,41448.1,39846.78,39147.47,38201.33,39731.31,40882.39,42825.43,44601.11,43787.71,46259.7,45589.99,45522.13,44385.09,47792.52,47083.75,47006.02,45926.23,44704.85,44714.09,46772.0,49332.99,48846.11,49273.28,49523.23,47719.37,48992.65,46854.22,49082.13,48931.99,48795.42,47024.69,47150.32,48842.93,49299.14,50027.09,49942.2,51799.56,52683.98,46864.38,46060.02,46413.88,44860.83,45194.19,46048.02,44975.96,47087.18,48106.13,47745.55,47303.11,48284.61,47256.92,43026.61,40727.83,43520.0,44828.29,42798.49,42646.84,43150.01,42122.69,41002.96,41499.7,43799.49,48123.93,47626.62,48187.99,49199.78,51460.22,55327.45,53814.99,53974.99,54960.79,54700.0,57500.01,56011.83,57393.65,57377.12,61702.33,60925.56,61571.45,62037.92,64314.75,66064.25,62260.33,60734.28,61325.09,60902.82,63129.25,60358.74,58449.36,60622.02,62308.21,61895.19,61347.14,60942.87,63266.69,62946.45,61433.9,61006.0,61511.3,63316.4,67606.96,67010.65,64920.13,64831.2,64156.08,64426.99,65568.38,63654.49,60106.03,60366.97,56921.04,58069.52,59716.28,58648.87,56268.31,57574.24,57165.09,58988.36,53755.66,54738.77,57315.72,57827.97,56978.06,57209.28,56513.56,53611.86,49135.66,49373.83,50424.72,50577.2,50459.61,47539.34,47132.31,49379.51,50057.02,46679.93,48324.0,48870.48,47629.1,46125.33,46815.99,46668.65,46896.82,48875.88,48569.69,50817.94,50809.37,50403.64,50765.73,50707.72,47522.02,46436.53,47095.02,46210.57,47704.35,47280.01,46445.8,45833.41,43421.7,43080.01,41553.87,41688.05,41851.22,41801.55,42700.69,43880.72,42538.72,43042.4,43070.51,43060.66,42176.34,42337.58,41656.9,40662.06,36426.46,35043.73,36230.0,36648.3,36934.26,36787.42,37131.0,37696.22,38150.0,37870.0,38439.04,38680.51,36892.05,37287.33,41550.0,41374.68,42361.34,43829.99,44021.58,44358.09,43471.3,42365.99,42199.88,42041.12,42525.14,44529.7,43860.8,40491.8,39966.8,40052.6,38367.9,36986.4,38212.1,37227.9,38316.2,39205.4,39099.3,37672.1,43155.0,44393.6,43885.8,42449.6,39127.7,39375.0,38401.1,37963.7,38709.9,41939.5,39407.1,38713.1,38792.7,37743.0,39651.6,39270.9,41105.9,40898.0,41751.6,42188.2,41261.0,40982.0,42349.9,42867.8,43973.2,44290.6,44489.3,46820.9,47121.8,47418.5,47053.1,45505.9,46266.2,45792.3,46392.3,46580.9,45477.5,43159.8,43417.1,42229.1,42727.8,42140.3,39505.6,40060.7,41129.8,39915.9,40529.6,40360.9,39649.1,40785.7,41472.9,41326.0,40449.7,39674.3,39413.8,39433.4,40411.0,38093.7,39209.0,39732.5,38572.2,37614.4,38440.2,38525.5,37713.0,39684.1,36533.7,35995.2,35466.7,34032.1,30056.0,31002.1,29077.9,29020.8,29274.2,30079.5,31324.3,29866.4,30437.0,28700.6,30319.9,29188.9,29427.4,30284.0,29097.8,29643.0,29536.7,29194.0,28623.3,29018.8,29452.6,31726.5,31797.9,29796.9,30437.1,29682.8,29848.5,29910.0,31361.2,31118.0,30192.6,30093.4,29077.7,28416.6,26564.7,22471.4,22122.7,22567.5,20387.4,20457.3,18959.7,20564.3,20570.0,20713.1,19977.5,21096.6,21231.2,21481.9,21029.1,20730.0,20268.7,20109.9,19923.3,19272.0,19241.0,19306.0,20226.3,20170.1,20554.2,21614.5,21587.8,21580.0,20853.8,19954.3,19322.9,20220.1,20578.6,20823.1,21183.6,20794.4,22423.5,23385.9,23221.5,23144.5,22675.0,22440.1,22570.6,21300.0,21241.0,22941.1,23836.2,23771.0,23630.0,23290.1,23257.6,22975.1,22801.5,22608.9,23298.0,22943.2,23167.9,23804.3,23140.1,23941.0,23917.3,24387.5,24429.0,24294.1,24085.2,23843.0,23333.1,23185.0,20825.0,21127.7,21505.6,21387.0,21518.2,21355.0,21548.3,20228.7,20024.0,19547.5,20275.5,19803.2,20041.4,20122.6,19941.0,19820.7,19992.7,19784.9,18781.4,19287.0,19309.3,21352.0,21639.5,21820.3,22386.0,20162.6,20217.0,19690.8,19792.4,20102.0,19404.5,19528.6,18866.7,18447.5,19392.5,19280.7,18910.9,18799.7,19216.3,19070.1,19407.4,19582.5,19411.6,19304.0,19049.3,19621.9,20332.9,20149.9,19954.0,19520.9,19406.3,19430.0,19124.1,19055.0,19148.1,19365.4,19164.6,19060.4,19251.8,19540.7,19320.9,19116.6,19034.8,19151.0,19195.1,19560.6,19318.1,20068.3,20758.4,20285.6,20582.7,20796.7,20615.5,20482.1,20472.1,20140.2,20199.8,21137.6,21289.8,20900.0,20578.5,18533.9,15905.0,17588.0,17058.4,16806.9,16321.3,16605.3,16888.3,16650.7,16682.1,16689.7,16693.0,16272.7,15772.9,16220.5,16595.8,16592.5,16516.2,16449.2,16422.5,16204.6,16433.3,17153.4,16970.5,17083.0,16879.5,17099.5,16958.2,17078.7,16828.0,17216.0,17122.0,17120.1,17077.3,17200.0,17777.1,17804.0,17351.9,16624.1,16768.1,16730.4,16429.2,16887.3,16819.7,16815.5,16776.3,16829.0,16824.5,16912.8,16698.2,16538.9,16630.3,16601.2,16537.5,16610.4,16665.9,16667.3,16842.2,16823.8,16943.9,16936.5,17124.6,17169.6,17428.8,17935.6,18838.1,19924.3,20962.8,20882.7,21188.2,21130.8,20680.1,21068.3,22661.0,22781.8,22704.7,22913.3,22627.5,23060.6,23001.9,23068.1,23016.0,23740.2,22819.9,23119.5,23730.1,23493.0,23424.7,23322.6,22929.3,22757.8,23234.1,22955.9,21793.3,21618.6,21851.2,21771.0,21766.1,22187.4,24332.7,23526.6,24581.3,24636.8,24265.9,24849.9,24443.3,24171.3,23928.7,23175.5,23146.2,23545.2,23480.0,23129.7,23619.8,23457.1,22342.8,22335.8,22419.3,22397.1,22187.1,21695.3,20348.4,20140.3,20447.3,21986.2,24119.5,24682.5,24287.9,24990.5,27383.9,26907.0,27955.8,27704.1,28091.1,27233.8,28284.0,27439.0,27447.2,27954.3,27112.0,27249.7,28338.6,28015.0,28454.8,28443.7,28161.3,27786.1,28155.1,28154.0,28022.9,27890.7,27924.9,28309.4,29623.1,30185.1,29874.9,30362.7,30453.0,30280.4,30286.6,29420.1,30365.8,28795.0,28229.9,27252.6,27807.2,27575.9,27497.4,28286.7,28396.0,29459.0,29300.0,29212.7,29223.0,28054.5,28656.4,29018.4,28826.0,29491.5,28837.9,28419.5,27659.8,27610.2,27583.0,26956.4,26785.2,26762.8,26901.9,27152.5,27024.7,27395.7,26809.4,26870.1,27089.6,26732.8,26840.2,27209.9,26313.9,26461.7,26689.8,26841.6,28055.8,27722.1,27680.0,27201.1,26805.3,27227.8,27054.9,27102.4,25714.6,27221.5,26325.9,26486.0,26468.2,25826.6,25910.0,25894.8,25918.0,25115.9,25586.0,26335.9,26508.8,26329.6,26828.6,28290.7,29988.5,29875.0,30673.5,30524.2,30458.0,30260.1,30683.2,30066.3,30439.9,30460.2,30573.6,30612.7,31149.0,30756.1,30488.4,29874.3,30328.0,30269.2,30147.8,30396.9,30608.3,30368.9,31441.6,30293.3,30276.5,30216.9,30126.0,29845.7,29895.5,29791.0,29891.5,29783.5,30070.9,29163.8,29216.2,29336.0,29209.8,29300.0,29339.1,29271.2,29220.8,29701.2,29170.2,29180.1,29101.1,29057.7,29075.9,29202.7,29758.9,29572.9,29443.7,29415.5,29420.8,29293.3,29419.5,29188.9,28714.4,26609.7,26042.0,26088.4,26175.9,26115.4,26044.5,26419.2,26164.6,26051.7,26004.3,26087.6,26106.5,27700.1,27290.4,25928.0,25795.6,25855.8,25962.1,25814.0,25779.7,25747.4,26240.7,25899.9,25892.6,25828.4,25150.4,25825.8,26209.9,26510.3,26591.1,26547.0,26514.2,26749.9,27195.9,27107.7,26552.6,26566.7,26563.0,26232.4,26290.5,26208.7,26359.6,27011.7,26890.9,26951.0,27981.4,27477.7,27412.0,27759.7,27398.3,27916.3,27943.0,27901.2,27578.4,27381.3,26864.5,26744.0,26849.7,26836.4,27139.8,28486.3,28382.0,28307.2,28697.0,29653.0,29895.4,29981.4,33074.0,33917.0,34487.8,34154.0,33893.2,34086.7,34528.6,34483.8,34651.4,35437.5,34940.1,34700.5,35069.7,35025.5,35057.5,35406.5,35626.7,36719.6,37330.3,37162.1,37085.6,36486.2,35559.1,37885.5,36176.0,36621.9,36580.9,37375.8,37462.6,35737.0,37413.5,37294.4,37706.3,37766.7,37437.9,37234.4,37812.0,37837.2,37716.9,38659.9,39435.1,39979.8,41993.1,44081.7,43775.1,43296.0,44209.6,43734.2,43810.1,41271.1,41514.9,42875.0,43032.3,41968.0,42287.4,41396.6,42671.8,42298.2,43708.9,43896.4,43999.2,43725.2,43008.4,43611.9,42538.6,43453.8,42600.1,42095.1,42174.3,42314.0],\"x\":[\"2020-01-01T00:00:00\",\"2020-01-02T00:00:00\",\"2020-01-03T00:00:00\",\"2020-01-04T00:00:00\",\"2020-01-05T00:00:00\",\"2020-01-06T00:00:00\",\"2020-01-07T00:00:00\",\"2020-01-08T00:00:00\",\"2020-01-09T00:00:00\",\"2020-01-10T00:00:00\",\"2020-01-11T00:00:00\",\"2020-01-12T00:00:00\",\"2020-01-13T00:00:00\",\"2020-01-14T00:00:00\",\"2020-01-15T00:00:00\",\"2020-01-16T00:00:00\",\"2020-01-17T00:00:00\",\"2020-01-18T00:00:00\",\"2020-01-19T00:00:00\",\"2020-01-20T00:00:00\",\"2020-01-21T00:00:00\",\"2020-01-22T00:00:00\",\"2020-01-23T00:00:00\",\"2020-01-24T00:00:00\",\"2020-01-25T00:00:00\",\"2020-01-26T00:00:00\",\"2020-01-27T00:00:00\",\"2020-01-28T00:00:00\",\"2020-01-29T00:00:00\",\"2020-01-30T00:00:00\",\"2020-01-31T00:00:00\",\"2020-02-01T00:00:00\",\"2020-02-02T00:00:00\",\"2020-02-03T00:00:00\",\"2020-02-04T00:00:00\",\"2020-02-05T00:00:00\",\"2020-02-06T00:00:00\",\"2020-02-07T00:00:00\",\"2020-02-08T00:00:00\",\"2020-02-09T00:00:00\",\"2020-02-10T00:00:00\",\"2020-02-11T00:00:00\",\"2020-02-12T00:00:00\",\"2020-02-13T00:00:00\",\"2020-02-14T00:00:00\",\"2020-02-15T00:00:00\",\"2020-02-16T00:00:00\",\"2020-02-17T00:00:00\",\"2020-02-18T00:00:00\",\"2020-02-19T00:00:00\",\"2020-02-20T00:00:00\",\"2020-02-21T00:00:00\",\"2020-02-22T00:00:00\",\"2020-02-23T00:00:00\",\"2020-02-24T00:00:00\",\"2020-02-25T00:00:00\",\"2020-02-26T00:00:00\",\"2020-02-27T00:00:00\",\"2020-02-28T00:00:00\",\"2020-02-29T00:00:00\",\"2020-03-01T00:00:00\",\"2020-03-02T00:00:00\",\"2020-03-03T00:00:00\",\"2020-03-04T00:00:00\",\"2020-03-05T00:00:00\",\"2020-03-06T00:00:00\",\"2020-03-07T00:00:00\",\"2020-03-08T00:00:00\",\"2020-03-09T00:00:00\",\"2020-03-10T00:00:00\",\"2020-03-11T00:00:00\",\"2020-03-12T00:00:00\",\"2020-03-13T00:00:00\",\"2020-03-14T00:00:00\",\"2020-03-15T00:00:00\",\"2020-03-16T00:00:00\",\"2020-03-17T00:00:00\",\"2020-03-18T00:00:00\",\"2020-03-19T00:00:00\",\"2020-03-20T00:00:00\",\"2020-03-21T00:00:00\",\"2020-03-22T00:00:00\",\"2020-03-23T00:00:00\",\"2020-03-24T00:00:00\",\"2020-03-25T00:00:00\",\"2020-03-26T00:00:00\",\"2020-03-27T00:00:00\",\"2020-03-28T00:00:00\",\"2020-03-29T00:00:00\",\"2020-03-30T00:00:00\",\"2020-03-31T00:00:00\",\"2020-04-01T00:00:00\",\"2020-04-02T00:00:00\",\"2020-04-03T00:00:00\",\"2020-04-04T00:00:00\",\"2020-04-05T00:00:00\",\"2020-04-06T00:00:00\",\"2020-04-07T00:00:00\",\"2020-04-08T00:00:00\",\"2020-04-09T00:00:00\",\"2020-04-10T00:00:00\",\"2020-04-11T00:00:00\",\"2020-04-12T00:00:00\",\"2020-04-13T00:00:00\",\"2020-04-14T00:00:00\",\"2020-04-15T00:00:00\",\"2020-04-16T00:00:00\",\"2020-04-17T00:00:00\",\"2020-04-18T00:00:00\",\"2020-04-19T00:00:00\",\"2020-04-20T00:00:00\",\"2020-04-21T00:00:00\",\"2020-04-22T00:00:00\",\"2020-04-23T00:00:00\",\"2020-04-24T00:00:00\",\"2020-04-25T00:00:00\",\"2020-04-26T00:00:00\",\"2020-04-27T00:00:00\",\"2020-04-28T00:00:00\",\"2020-04-29T00:00:00\",\"2020-04-30T00:00:00\",\"2020-05-01T00:00:00\",\"2020-05-02T00:00:00\",\"2020-05-03T00:00:00\",\"2020-05-04T00:00:00\",\"2020-05-05T00:00:00\",\"2020-05-06T00:00:00\",\"2020-05-07T00:00:00\",\"2020-05-08T00:00:00\",\"2020-05-09T00:00:00\",\"2020-05-10T00:00:00\",\"2020-05-11T00:00:00\",\"2020-05-12T00:00:00\",\"2020-05-13T00:00:00\",\"2020-05-14T00:00:00\",\"2020-05-15T00:00:00\",\"2020-05-16T00:00:00\",\"2020-05-17T00:00:00\",\"2020-05-18T00:00:00\",\"2020-05-19T00:00:00\",\"2020-05-20T00:00:00\",\"2020-05-21T00:00:00\",\"2020-05-22T00:00:00\",\"2020-05-23T00:00:00\",\"2020-05-24T00:00:00\",\"2020-05-25T00:00:00\",\"2020-05-26T00:00:00\",\"2020-05-27T00:00:00\",\"2020-05-28T00:00:00\",\"2020-05-29T00:00:00\",\"2020-05-30T00:00:00\",\"2020-05-31T00:00:00\",\"2020-06-01T00:00:00\",\"2020-06-02T00:00:00\",\"2020-06-03T00:00:00\",\"2020-06-04T00:00:00\",\"2020-06-05T00:00:00\",\"2020-06-06T00:00:00\",\"2020-06-07T00:00:00\",\"2020-06-08T00:00:00\",\"2020-06-09T00:00:00\",\"2020-06-10T00:00:00\",\"2020-06-11T00:00:00\",\"2020-06-12T00:00:00\",\"2020-06-13T00:00:00\",\"2020-06-14T00:00:00\",\"2020-06-15T00:00:00\",\"2020-06-16T00:00:00\",\"2020-06-17T00:00:00\",\"2020-06-18T00:00:00\",\"2020-06-19T00:00:00\",\"2020-06-20T00:00:00\",\"2020-06-21T00:00:00\",\"2020-06-22T00:00:00\",\"2020-06-23T00:00:00\",\"2020-06-24T00:00:00\",\"2020-06-25T00:00:00\",\"2020-06-26T00:00:00\",\"2020-06-27T00:00:00\",\"2020-06-28T00:00:00\",\"2020-06-29T00:00:00\",\"2020-06-30T00:00:00\",\"2020-07-01T00:00:00\",\"2020-07-02T00:00:00\",\"2020-07-03T00:00:00\",\"2020-07-04T00:00:00\",\"2020-07-05T00:00:00\",\"2020-07-06T00:00:00\",\"2020-07-07T00:00:00\",\"2020-07-08T00:00:00\",\"2020-07-09T00:00:00\",\"2020-07-10T00:00:00\",\"2020-07-11T00:00:00\",\"2020-07-12T00:00:00\",\"2020-07-13T00:00:00\",\"2020-07-14T00:00:00\",\"2020-07-15T00:00:00\",\"2020-07-16T00:00:00\",\"2020-07-17T00:00:00\",\"2020-07-18T00:00:00\",\"2020-07-19T00:00:00\",\"2020-07-20T00:00:00\",\"2020-07-21T00:00:00\",\"2020-07-22T00:00:00\",\"2020-07-23T00:00:00\",\"2020-07-24T00:00:00\",\"2020-07-25T00:00:00\",\"2020-07-26T00:00:00\",\"2020-07-27T00:00:00\",\"2020-07-28T00:00:00\",\"2020-07-29T00:00:00\",\"2020-07-30T00:00:00\",\"2020-07-31T00:00:00\",\"2020-08-01T00:00:00\",\"2020-08-02T00:00:00\",\"2020-08-03T00:00:00\",\"2020-08-04T00:00:00\",\"2020-08-05T00:00:00\",\"2020-08-06T00:00:00\",\"2020-08-07T00:00:00\",\"2020-08-08T00:00:00\",\"2020-08-09T00:00:00\",\"2020-08-10T00:00:00\",\"2020-08-11T00:00:00\",\"2020-08-12T00:00:00\",\"2020-08-13T00:00:00\",\"2020-08-14T00:00:00\",\"2020-08-15T00:00:00\",\"2020-08-16T00:00:00\",\"2020-08-17T00:00:00\",\"2020-08-18T00:00:00\",\"2020-08-19T00:00:00\",\"2020-08-20T00:00:00\",\"2020-08-21T00:00:00\",\"2020-08-22T00:00:00\",\"2020-08-23T00:00:00\",\"2020-08-24T00:00:00\",\"2020-08-25T00:00:00\",\"2020-08-26T00:00:00\",\"2020-08-27T00:00:00\",\"2020-08-28T00:00:00\",\"2020-08-29T00:00:00\",\"2020-08-30T00:00:00\",\"2020-08-31T00:00:00\",\"2020-09-01T00:00:00\",\"2020-09-02T00:00:00\",\"2020-09-03T00:00:00\",\"2020-09-04T00:00:00\",\"2020-09-05T00:00:00\",\"2020-09-06T00:00:00\",\"2020-09-07T00:00:00\",\"2020-09-08T00:00:00\",\"2020-09-09T00:00:00\",\"2020-09-10T00:00:00\",\"2020-09-11T00:00:00\",\"2020-09-12T00:00:00\",\"2020-09-13T00:00:00\",\"2020-09-14T00:00:00\",\"2020-09-15T00:00:00\",\"2020-09-16T00:00:00\",\"2020-09-17T00:00:00\",\"2020-09-18T00:00:00\",\"2020-09-19T00:00:00\",\"2020-09-20T00:00:00\",\"2020-09-21T00:00:00\",\"2020-09-22T00:00:00\",\"2020-09-23T00:00:00\",\"2020-09-24T00:00:00\",\"2020-09-25T00:00:00\",\"2020-09-26T00:00:00\",\"2020-09-27T00:00:00\",\"2020-09-28T00:00:00\",\"2020-09-29T00:00:00\",\"2020-09-30T00:00:00\",\"2020-10-01T00:00:00\",\"2020-10-02T00:00:00\",\"2020-10-03T00:00:00\",\"2020-10-04T00:00:00\",\"2020-10-05T00:00:00\",\"2020-10-06T00:00:00\",\"2020-10-07T00:00:00\",\"2020-10-08T00:00:00\",\"2020-10-09T00:00:00\",\"2020-10-10T00:00:00\",\"2020-10-11T00:00:00\",\"2020-10-12T00:00:00\",\"2020-10-13T00:00:00\",\"2020-10-14T00:00:00\",\"2020-10-15T00:00:00\",\"2020-10-16T00:00:00\",\"2020-10-17T00:00:00\",\"2020-10-18T00:00:00\",\"2020-10-19T00:00:00\",\"2020-10-20T00:00:00\",\"2020-10-21T00:00:00\",\"2020-10-22T00:00:00\",\"2020-10-23T00:00:00\",\"2020-10-24T00:00:00\",\"2020-10-25T00:00:00\",\"2020-10-26T00:00:00\",\"2020-10-27T00:00:00\",\"2020-10-28T00:00:00\",\"2020-10-29T00:00:00\",\"2020-10-30T00:00:00\",\"2020-10-31T00:00:00\",\"2020-11-01T00:00:00\",\"2020-11-02T00:00:00\",\"2020-11-03T00:00:00\",\"2020-11-04T00:00:00\",\"2020-11-05T00:00:00\",\"2020-11-06T00:00:00\",\"2020-11-07T00:00:00\",\"2020-11-08T00:00:00\",\"2020-11-09T00:00:00\",\"2020-11-10T00:00:00\",\"2020-11-11T00:00:00\",\"2020-11-12T00:00:00\",\"2020-11-13T00:00:00\",\"2020-11-14T00:00:00\",\"2020-11-15T00:00:00\",\"2020-11-16T00:00:00\",\"2020-11-17T00:00:00\",\"2020-11-18T00:00:00\",\"2020-11-19T00:00:00\",\"2020-11-20T00:00:00\",\"2020-11-21T00:00:00\",\"2020-11-22T00:00:00\",\"2020-11-23T00:00:00\",\"2020-11-24T00:00:00\",\"2020-11-25T00:00:00\",\"2020-11-26T00:00:00\",\"2020-11-27T00:00:00\",\"2020-11-28T00:00:00\",\"2020-11-29T00:00:00\",\"2020-11-30T00:00:00\",\"2020-12-01T00:00:00\",\"2020-12-02T00:00:00\",\"2020-12-03T00:00:00\",\"2020-12-04T00:00:00\",\"2020-12-05T00:00:00\",\"2020-12-06T00:00:00\",\"2020-12-07T00:00:00\",\"2020-12-08T00:00:00\",\"2020-12-09T00:00:00\",\"2020-12-10T00:00:00\",\"2020-12-11T00:00:00\",\"2020-12-12T00:00:00\",\"2020-12-13T00:00:00\",\"2020-12-14T00:00:00\",\"2020-12-15T00:00:00\",\"2020-12-16T00:00:00\",\"2020-12-17T00:00:00\",\"2020-12-18T00:00:00\",\"2020-12-19T00:00:00\",\"2020-12-20T00:00:00\",\"2020-12-21T00:00:00\",\"2020-12-22T00:00:00\",\"2020-12-23T00:00:00\",\"2020-12-24T00:00:00\",\"2020-12-25T00:00:00\",\"2020-12-26T00:00:00\",\"2020-12-27T00:00:00\",\"2020-12-28T00:00:00\",\"2020-12-29T00:00:00\",\"2020-12-30T00:00:00\",\"2020-12-31T00:00:00\",\"2021-01-01T00:00:00\",\"2021-01-02T00:00:00\",\"2021-01-03T00:00:00\",\"2021-01-04T00:00:00\",\"2021-01-05T00:00:00\",\"2021-01-06T00:00:00\",\"2021-01-07T00:00:00\",\"2021-01-08T00:00:00\",\"2021-01-09T00:00:00\",\"2021-01-10T00:00:00\",\"2021-01-11T00:00:00\",\"2021-01-12T00:00:00\",\"2021-01-13T00:00:00\",\"2021-01-14T00:00:00\",\"2021-01-15T00:00:00\",\"2021-01-16T00:00:00\",\"2021-01-17T00:00:00\",\"2021-01-18T00:00:00\",\"2021-01-19T00:00:00\",\"2021-01-20T00:00:00\",\"2021-01-21T00:00:00\",\"2021-01-22T00:00:00\",\"2021-01-23T00:00:00\",\"2021-01-24T00:00:00\",\"2021-01-25T00:00:00\",\"2021-01-26T00:00:00\",\"2021-01-27T00:00:00\",\"2021-01-28T00:00:00\",\"2021-01-29T00:00:00\",\"2021-01-30T00:00:00\",\"2021-01-31T00:00:00\",\"2021-02-01T00:00:00\",\"2021-02-02T00:00:00\",\"2021-02-03T00:00:00\",\"2021-02-04T00:00:00\",\"2021-02-05T00:00:00\",\"2021-02-06T00:00:00\",\"2021-02-07T00:00:00\",\"2021-02-08T00:00:00\",\"2021-02-09T00:00:00\",\"2021-02-10T00:00:00\",\"2021-02-11T00:00:00\",\"2021-02-12T00:00:00\",\"2021-02-13T00:00:00\",\"2021-02-14T00:00:00\",\"2021-02-15T00:00:00\",\"2021-02-16T00:00:00\",\"2021-02-17T00:00:00\",\"2021-02-18T00:00:00\",\"2021-02-19T00:00:00\",\"2021-02-20T00:00:00\",\"2021-02-21T00:00:00\",\"2021-02-22T00:00:00\",\"2021-02-23T00:00:00\",\"2021-02-24T00:00:00\",\"2021-02-25T00:00:00\",\"2021-02-26T00:00:00\",\"2021-02-27T00:00:00\",\"2021-02-28T00:00:00\",\"2021-03-01T00:00:00\",\"2021-03-02T00:00:00\",\"2021-03-03T00:00:00\",\"2021-03-04T00:00:00\",\"2021-03-05T00:00:00\",\"2021-03-06T00:00:00\",\"2021-03-07T00:00:00\",\"2021-03-08T00:00:00\",\"2021-03-09T00:00:00\",\"2021-03-10T00:00:00\",\"2021-03-11T00:00:00\",\"2021-03-12T00:00:00\",\"2021-03-13T00:00:00\",\"2021-03-14T00:00:00\",\"2021-03-15T00:00:00\",\"2021-03-16T00:00:00\",\"2021-03-17T00:00:00\",\"2021-03-18T00:00:00\",\"2021-03-19T00:00:00\",\"2021-03-20T00:00:00\",\"2021-03-21T00:00:00\",\"2021-03-22T00:00:00\",\"2021-03-23T00:00:00\",\"2021-03-24T00:00:00\",\"2021-03-25T00:00:00\",\"2021-03-26T00:00:00\",\"2021-03-27T00:00:00\",\"2021-03-28T00:00:00\",\"2021-03-29T00:00:00\",\"2021-03-30T00:00:00\",\"2021-03-31T00:00:00\",\"2021-04-01T00:00:00\",\"2021-04-02T00:00:00\",\"2021-04-03T00:00:00\",\"2021-04-04T00:00:00\",\"2021-04-05T00:00:00\",\"2021-04-06T00:00:00\",\"2021-04-07T00:00:00\",\"2021-04-08T00:00:00\",\"2021-04-09T00:00:00\",\"2021-04-10T00:00:00\",\"2021-04-11T00:00:00\",\"2021-04-12T00:00:00\",\"2021-04-13T00:00:00\",\"2021-04-14T00:00:00\",\"2021-04-15T00:00:00\",\"2021-04-16T00:00:00\",\"2021-04-17T00:00:00\",\"2021-04-18T00:00:00\",\"2021-04-19T00:00:00\",\"2021-04-20T00:00:00\",\"2021-04-21T00:00:00\",\"2021-04-22T00:00:00\",\"2021-04-23T00:00:00\",\"2021-04-24T00:00:00\",\"2021-04-25T00:00:00\",\"2021-04-26T00:00:00\",\"2021-04-27T00:00:00\",\"2021-04-28T00:00:00\",\"2021-04-29T00:00:00\",\"2021-04-30T00:00:00\",\"2021-05-01T00:00:00\",\"2021-05-02T00:00:00\",\"2021-05-03T00:00:00\",\"2021-05-04T00:00:00\",\"2021-05-05T00:00:00\",\"2021-05-06T00:00:00\",\"2021-05-07T00:00:00\",\"2021-05-08T00:00:00\",\"2021-05-09T00:00:00\",\"2021-05-10T00:00:00\",\"2021-05-11T00:00:00\",\"2021-05-12T00:00:00\",\"2021-05-13T00:00:00\",\"2021-05-14T00:00:00\",\"2021-05-15T00:00:00\",\"2021-05-16T00:00:00\",\"2021-05-17T00:00:00\",\"2021-05-18T00:00:00\",\"2021-05-19T00:00:00\",\"2021-05-20T00:00:00\",\"2021-05-21T00:00:00\",\"2021-05-22T00:00:00\",\"2021-05-23T00:00:00\",\"2021-05-24T00:00:00\",\"2021-05-25T00:00:00\",\"2021-05-26T00:00:00\",\"2021-05-27T00:00:00\",\"2021-05-28T00:00:00\",\"2021-05-29T00:00:00\",\"2021-05-30T00:00:00\",\"2021-05-31T00:00:00\",\"2021-06-01T00:00:00\",\"2021-06-02T00:00:00\",\"2021-06-03T00:00:00\",\"2021-06-04T00:00:00\",\"2021-06-05T00:00:00\",\"2021-06-06T00:00:00\",\"2021-06-07T00:00:00\",\"2021-06-08T00:00:00\",\"2021-06-09T00:00:00\",\"2021-06-10T00:00:00\",\"2021-06-11T00:00:00\",\"2021-06-12T00:00:00\",\"2021-06-13T00:00:00\",\"2021-06-14T00:00:00\",\"2021-06-15T00:00:00\",\"2021-06-16T00:00:00\",\"2021-06-17T00:00:00\",\"2021-06-18T00:00:00\",\"2021-06-19T00:00:00\",\"2021-06-20T00:00:00\",\"2021-06-21T00:00:00\",\"2021-06-22T00:00:00\",\"2021-06-23T00:00:00\",\"2021-06-24T00:00:00\",\"2021-06-25T00:00:00\",\"2021-06-26T00:00:00\",\"2021-06-27T00:00:00\",\"2021-06-28T00:00:00\",\"2021-06-29T00:00:00\",\"2021-06-30T00:00:00\",\"2021-07-01T00:00:00\",\"2021-07-02T00:00:00\",\"2021-07-03T00:00:00\",\"2021-07-04T00:00:00\",\"2021-07-05T00:00:00\",\"2021-07-06T00:00:00\",\"2021-07-07T00:00:00\",\"2021-07-08T00:00:00\",\"2021-07-09T00:00:00\",\"2021-07-10T00:00:00\",\"2021-07-11T00:00:00\",\"2021-07-12T00:00:00\",\"2021-07-13T00:00:00\",\"2021-07-14T00:00:00\",\"2021-07-15T00:00:00\",\"2021-07-16T00:00:00\",\"2021-07-17T00:00:00\",\"2021-07-18T00:00:00\",\"2021-07-19T00:00:00\",\"2021-07-20T00:00:00\",\"2021-07-21T00:00:00\",\"2021-07-22T00:00:00\",\"2021-07-23T00:00:00\",\"2021-07-24T00:00:00\",\"2021-07-25T00:00:00\",\"2021-07-26T00:00:00\",\"2021-07-27T00:00:00\",\"2021-07-28T00:00:00\",\"2021-07-29T00:00:00\",\"2021-07-30T00:00:00\",\"2021-07-31T00:00:00\",\"2021-08-01T00:00:00\",\"2021-08-02T00:00:00\",\"2021-08-03T00:00:00\",\"2021-08-04T00:00:00\",\"2021-08-05T00:00:00\",\"2021-08-06T00:00:00\",\"2021-08-07T00:00:00\",\"2021-08-08T00:00:00\",\"2021-08-09T00:00:00\",\"2021-08-10T00:00:00\",\"2021-08-11T00:00:00\",\"2021-08-12T00:00:00\",\"2021-08-13T00:00:00\",\"2021-08-14T00:00:00\",\"2021-08-15T00:00:00\",\"2021-08-16T00:00:00\",\"2021-08-17T00:00:00\",\"2021-08-18T00:00:00\",\"2021-08-19T00:00:00\",\"2021-08-20T00:00:00\",\"2021-08-21T00:00:00\",\"2021-08-22T00:00:00\",\"2021-08-23T00:00:00\",\"2021-08-24T00:00:00\",\"2021-08-25T00:00:00\",\"2021-08-26T00:00:00\",\"2021-08-27T00:00:00\",\"2021-08-28T00:00:00\",\"2021-08-29T00:00:00\",\"2021-08-30T00:00:00\",\"2021-08-31T00:00:00\",\"2021-09-01T00:00:00\",\"2021-09-02T00:00:00\",\"2021-09-03T00:00:00\",\"2021-09-04T00:00:00\",\"2021-09-05T00:00:00\",\"2021-09-06T00:00:00\",\"2021-09-07T00:00:00\",\"2021-09-08T00:00:00\",\"2021-09-09T00:00:00\",\"2021-09-10T00:00:00\",\"2021-09-11T00:00:00\",\"2021-09-12T00:00:00\",\"2021-09-13T00:00:00\",\"2021-09-14T00:00:00\",\"2021-09-15T00:00:00\",\"2021-09-16T00:00:00\",\"2021-09-17T00:00:00\",\"2021-09-18T00:00:00\",\"2021-09-19T00:00:00\",\"2021-09-20T00:00:00\",\"2021-09-21T00:00:00\",\"2021-09-22T00:00:00\",\"2021-09-23T00:00:00\",\"2021-09-24T00:00:00\",\"2021-09-25T00:00:00\",\"2021-09-26T00:00:00\",\"2021-09-27T00:00:00\",\"2021-09-28T00:00:00\",\"2021-09-29T00:00:00\",\"2021-09-30T00:00:00\",\"2021-10-01T00:00:00\",\"2021-10-02T00:00:00\",\"2021-10-03T00:00:00\",\"2021-10-04T00:00:00\",\"2021-10-05T00:00:00\",\"2021-10-06T00:00:00\",\"2021-10-07T00:00:00\",\"2021-10-08T00:00:00\",\"2021-10-09T00:00:00\",\"2021-10-10T00:00:00\",\"2021-10-11T00:00:00\",\"2021-10-12T00:00:00\",\"2021-10-13T00:00:00\",\"2021-10-14T00:00:00\",\"2021-10-15T00:00:00\",\"2021-10-16T00:00:00\",\"2021-10-17T00:00:00\",\"2021-10-18T00:00:00\",\"2021-10-19T00:00:00\",\"2021-10-20T00:00:00\",\"2021-10-21T00:00:00\",\"2021-10-22T00:00:00\",\"2021-10-23T00:00:00\",\"2021-10-24T00:00:00\",\"2021-10-25T00:00:00\",\"2021-10-26T00:00:00\",\"2021-10-27T00:00:00\",\"2021-10-28T00:00:00\",\"2021-10-29T00:00:00\",\"2021-10-30T00:00:00\",\"2021-10-31T00:00:00\",\"2021-11-01T00:00:00\",\"2021-11-02T00:00:00\",\"2021-11-03T00:00:00\",\"2021-11-04T00:00:00\",\"2021-11-05T00:00:00\",\"2021-11-06T00:00:00\",\"2021-11-07T00:00:00\",\"2021-11-08T00:00:00\",\"2021-11-09T00:00:00\",\"2021-11-10T00:00:00\",\"2021-11-11T00:00:00\",\"2021-11-12T00:00:00\",\"2021-11-13T00:00:00\",\"2021-11-14T00:00:00\",\"2021-11-15T00:00:00\",\"2021-11-16T00:00:00\",\"2021-11-17T00:00:00\",\"2021-11-18T00:00:00\",\"2021-11-19T00:00:00\",\"2021-11-20T00:00:00\",\"2021-11-21T00:00:00\",\"2021-11-22T00:00:00\",\"2021-11-23T00:00:00\",\"2021-11-24T00:00:00\",\"2021-11-25T00:00:00\",\"2021-11-26T00:00:00\",\"2021-11-27T00:00:00\",\"2021-11-28T00:00:00\",\"2021-11-29T00:00:00\",\"2021-11-30T00:00:00\",\"2021-12-01T00:00:00\",\"2021-12-02T00:00:00\",\"2021-12-03T00:00:00\",\"2021-12-04T00:00:00\",\"2021-12-05T00:00:00\",\"2021-12-06T00:00:00\",\"2021-12-07T00:00:00\",\"2021-12-08T00:00:00\",\"2021-12-09T00:00:00\",\"2021-12-10T00:00:00\",\"2021-12-11T00:00:00\",\"2021-12-12T00:00:00\",\"2021-12-13T00:00:00\",\"2021-12-14T00:00:00\",\"2021-12-15T00:00:00\",\"2021-12-16T00:00:00\",\"2021-12-17T00:00:00\",\"2021-12-18T00:00:00\",\"2021-12-19T00:00:00\",\"2021-12-20T00:00:00\",\"2021-12-21T00:00:00\",\"2021-12-22T00:00:00\",\"2021-12-23T00:00:00\",\"2021-12-24T00:00:00\",\"2021-12-25T00:00:00\",\"2021-12-26T00:00:00\",\"2021-12-27T00:00:00\",\"2021-12-28T00:00:00\",\"2021-12-29T00:00:00\",\"2021-12-30T00:00:00\",\"2021-12-31T00:00:00\",\"2022-01-01T00:00:00\",\"2022-01-02T00:00:00\",\"2022-01-03T00:00:00\",\"2022-01-04T00:00:00\",\"2022-01-05T00:00:00\",\"2022-01-06T00:00:00\",\"2022-01-07T00:00:00\",\"2022-01-08T00:00:00\",\"2022-01-09T00:00:00\",\"2022-01-10T00:00:00\",\"2022-01-11T00:00:00\",\"2022-01-12T00:00:00\",\"2022-01-13T00:00:00\",\"2022-01-14T00:00:00\",\"2022-01-15T00:00:00\",\"2022-01-16T00:00:00\",\"2022-01-17T00:00:00\",\"2022-01-18T00:00:00\",\"2022-01-19T00:00:00\",\"2022-01-20T00:00:00\",\"2022-01-21T00:00:00\",\"2022-01-22T00:00:00\",\"2022-01-23T00:00:00\",\"2022-01-24T00:00:00\",\"2022-01-25T00:00:00\",\"2022-01-26T00:00:00\",\"2022-01-27T00:00:00\",\"2022-01-28T00:00:00\",\"2022-01-29T00:00:00\",\"2022-01-30T00:00:00\",\"2022-01-31T00:00:00\",\"2022-02-01T00:00:00\",\"2022-02-02T00:00:00\",\"2022-02-03T00:00:00\",\"2022-02-04T00:00:00\",\"2022-02-05T00:00:00\",\"2022-02-06T00:00:00\",\"2022-02-07T00:00:00\",\"2022-02-08T00:00:00\",\"2022-02-09T00:00:00\",\"2022-02-10T00:00:00\",\"2022-02-11T00:00:00\",\"2022-02-12T00:00:00\",\"2022-02-13T00:00:00\",\"2022-02-14T00:00:00\",\"2022-02-15T00:00:00\",\"2022-02-16T00:00:00\",\"2022-02-17T00:00:00\",\"2022-02-18T00:00:00\",\"2022-02-19T00:00:00\",\"2022-02-20T00:00:00\",\"2022-02-21T00:00:00\",\"2022-02-22T00:00:00\",\"2022-02-23T00:00:00\",\"2022-02-24T00:00:00\",\"2022-02-25T00:00:00\",\"2022-02-26T00:00:00\",\"2022-02-27T00:00:00\",\"2022-02-28T00:00:00\",\"2022-03-01T00:00:00\",\"2022-03-02T00:00:00\",\"2022-03-03T00:00:00\",\"2022-03-04T00:00:00\",\"2022-03-05T00:00:00\",\"2022-03-06T00:00:00\",\"2022-03-07T00:00:00\",\"2022-03-08T00:00:00\",\"2022-03-09T00:00:00\",\"2022-03-10T00:00:00\",\"2022-03-11T00:00:00\",\"2022-03-12T00:00:00\",\"2022-03-13T00:00:00\",\"2022-03-14T00:00:00\",\"2022-03-15T00:00:00\",\"2022-03-16T00:00:00\",\"2022-03-17T00:00:00\",\"2022-03-18T00:00:00\",\"2022-03-19T00:00:00\",\"2022-03-20T00:00:00\",\"2022-03-21T00:00:00\",\"2022-03-22T00:00:00\",\"2022-03-23T00:00:00\",\"2022-03-24T00:00:00\",\"2022-03-25T00:00:00\",\"2022-03-26T00:00:00\",\"2022-03-27T00:00:00\",\"2022-03-28T00:00:00\",\"2022-03-29T00:00:00\",\"2022-03-30T00:00:00\",\"2022-03-31T00:00:00\",\"2022-04-01T00:00:00\",\"2022-04-02T00:00:00\",\"2022-04-03T00:00:00\",\"2022-04-04T00:00:00\",\"2022-04-05T00:00:00\",\"2022-04-06T00:00:00\",\"2022-04-07T00:00:00\",\"2022-04-08T00:00:00\",\"2022-04-09T00:00:00\",\"2022-04-10T00:00:00\",\"2022-04-11T00:00:00\",\"2022-04-12T00:00:00\",\"2022-04-13T00:00:00\",\"2022-04-14T00:00:00\",\"2022-04-15T00:00:00\",\"2022-04-16T00:00:00\",\"2022-04-17T00:00:00\",\"2022-04-18T00:00:00\",\"2022-04-19T00:00:00\",\"2022-04-20T00:00:00\",\"2022-04-21T00:00:00\",\"2022-04-22T00:00:00\",\"2022-04-23T00:00:00\",\"2022-04-24T00:00:00\",\"2022-04-25T00:00:00\",\"2022-04-26T00:00:00\",\"2022-04-27T00:00:00\",\"2022-04-28T00:00:00\",\"2022-04-29T00:00:00\",\"2022-04-30T00:00:00\",\"2022-05-01T00:00:00\",\"2022-05-02T00:00:00\",\"2022-05-03T00:00:00\",\"2022-05-04T00:00:00\",\"2022-05-05T00:00:00\",\"2022-05-06T00:00:00\",\"2022-05-07T00:00:00\",\"2022-05-08T00:00:00\",\"2022-05-09T00:00:00\",\"2022-05-10T00:00:00\",\"2022-05-11T00:00:00\",\"2022-05-12T00:00:00\",\"2022-05-13T00:00:00\",\"2022-05-14T00:00:00\",\"2022-05-15T00:00:00\",\"2022-05-16T00:00:00\",\"2022-05-17T00:00:00\",\"2022-05-18T00:00:00\",\"2022-05-19T00:00:00\",\"2022-05-20T00:00:00\",\"2022-05-21T00:00:00\",\"2022-05-22T00:00:00\",\"2022-05-23T00:00:00\",\"2022-05-24T00:00:00\",\"2022-05-25T00:00:00\",\"2022-05-26T00:00:00\",\"2022-05-27T00:00:00\",\"2022-05-28T00:00:00\",\"2022-05-29T00:00:00\",\"2022-05-30T00:00:00\",\"2022-05-31T00:00:00\",\"2022-06-01T00:00:00\",\"2022-06-02T00:00:00\",\"2022-06-03T00:00:00\",\"2022-06-04T00:00:00\",\"2022-06-05T00:00:00\",\"2022-06-06T00:00:00\",\"2022-06-07T00:00:00\",\"2022-06-08T00:00:00\",\"2022-06-09T00:00:00\",\"2022-06-10T00:00:00\",\"2022-06-11T00:00:00\",\"2022-06-12T00:00:00\",\"2022-06-13T00:00:00\",\"2022-06-14T00:00:00\",\"2022-06-15T00:00:00\",\"2022-06-16T00:00:00\",\"2022-06-17T00:00:00\",\"2022-06-18T00:00:00\",\"2022-06-19T00:00:00\",\"2022-06-20T00:00:00\",\"2022-06-21T00:00:00\",\"2022-06-22T00:00:00\",\"2022-06-23T00:00:00\",\"2022-06-24T00:00:00\",\"2022-06-25T00:00:00\",\"2022-06-26T00:00:00\",\"2022-06-27T00:00:00\",\"2022-06-28T00:00:00\",\"2022-06-29T00:00:00\",\"2022-06-30T00:00:00\",\"2022-07-01T00:00:00\",\"2022-07-02T00:00:00\",\"2022-07-03T00:00:00\",\"2022-07-04T00:00:00\",\"2022-07-05T00:00:00\",\"2022-07-06T00:00:00\",\"2022-07-07T00:00:00\",\"2022-07-08T00:00:00\",\"2022-07-09T00:00:00\",\"2022-07-10T00:00:00\",\"2022-07-11T00:00:00\",\"2022-07-12T00:00:00\",\"2022-07-13T00:00:00\",\"2022-07-14T00:00:00\",\"2022-07-15T00:00:00\",\"2022-07-16T00:00:00\",\"2022-07-17T00:00:00\",\"2022-07-18T00:00:00\",\"2022-07-19T00:00:00\",\"2022-07-20T00:00:00\",\"2022-07-21T00:00:00\",\"2022-07-22T00:00:00\",\"2022-07-23T00:00:00\",\"2022-07-24T00:00:00\",\"2022-07-25T00:00:00\",\"2022-07-26T00:00:00\",\"2022-07-27T00:00:00\",\"2022-07-28T00:00:00\",\"2022-07-29T00:00:00\",\"2022-07-30T00:00:00\",\"2022-07-31T00:00:00\",\"2022-08-01T00:00:00\",\"2022-08-02T00:00:00\",\"2022-08-03T00:00:00\",\"2022-08-04T00:00:00\",\"2022-08-05T00:00:00\",\"2022-08-06T00:00:00\",\"2022-08-07T00:00:00\",\"2022-08-08T00:00:00\",\"2022-08-09T00:00:00\",\"2022-08-10T00:00:00\",\"2022-08-11T00:00:00\",\"2022-08-12T00:00:00\",\"2022-08-13T00:00:00\",\"2022-08-14T00:00:00\",\"2022-08-15T00:00:00\",\"2022-08-16T00:00:00\",\"2022-08-17T00:00:00\",\"2022-08-18T00:00:00\",\"2022-08-19T00:00:00\",\"2022-08-20T00:00:00\",\"2022-08-21T00:00:00\",\"2022-08-22T00:00:00\",\"2022-08-23T00:00:00\",\"2022-08-24T00:00:00\",\"2022-08-25T00:00:00\",\"2022-08-26T00:00:00\",\"2022-08-27T00:00:00\",\"2022-08-28T00:00:00\",\"2022-08-29T00:00:00\",\"2022-08-30T00:00:00\",\"2022-08-31T00:00:00\",\"2022-09-01T00:00:00\",\"2022-09-02T00:00:00\",\"2022-09-03T00:00:00\",\"2022-09-04T00:00:00\",\"2022-09-05T00:00:00\",\"2022-09-06T00:00:00\",\"2022-09-07T00:00:00\",\"2022-09-08T00:00:00\",\"2022-09-09T00:00:00\",\"2022-09-10T00:00:00\",\"2022-09-11T00:00:00\",\"2022-09-12T00:00:00\",\"2022-09-13T00:00:00\",\"2022-09-14T00:00:00\",\"2022-09-15T00:00:00\",\"2022-09-16T00:00:00\",\"2022-09-17T00:00:00\",\"2022-09-18T00:00:00\",\"2022-09-19T00:00:00\",\"2022-09-20T00:00:00\",\"2022-09-21T00:00:00\",\"2022-09-22T00:00:00\",\"2022-09-23T00:00:00\",\"2022-09-24T00:00:00\",\"2022-09-25T00:00:00\",\"2022-09-26T00:00:00\",\"2022-09-27T00:00:00\",\"2022-09-28T00:00:00\",\"2022-09-29T00:00:00\",\"2022-09-30T00:00:00\",\"2022-10-01T00:00:00\",\"2022-10-02T00:00:00\",\"2022-10-03T00:00:00\",\"2022-10-04T00:00:00\",\"2022-10-05T00:00:00\",\"2022-10-06T00:00:00\",\"2022-10-07T00:00:00\",\"2022-10-08T00:00:00\",\"2022-10-09T00:00:00\",\"2022-10-10T00:00:00\",\"2022-10-11T00:00:00\",\"2022-10-12T00:00:00\",\"2022-10-13T00:00:00\",\"2022-10-14T00:00:00\",\"2022-10-15T00:00:00\",\"2022-10-16T00:00:00\",\"2022-10-17T00:00:00\",\"2022-10-18T00:00:00\",\"2022-10-19T00:00:00\",\"2022-10-20T00:00:00\",\"2022-10-21T00:00:00\",\"2022-10-22T00:00:00\",\"2022-10-23T00:00:00\",\"2022-10-24T00:00:00\",\"2022-10-25T00:00:00\",\"2022-10-26T00:00:00\",\"2022-10-27T00:00:00\",\"2022-10-28T00:00:00\",\"2022-10-29T00:00:00\",\"2022-10-30T00:00:00\",\"2022-10-31T00:00:00\",\"2022-11-01T00:00:00\",\"2022-11-02T00:00:00\",\"2022-11-03T00:00:00\",\"2022-11-04T00:00:00\",\"2022-11-05T00:00:00\",\"2022-11-06T00:00:00\",\"2022-11-07T00:00:00\",\"2022-11-08T00:00:00\",\"2022-11-09T00:00:00\",\"2022-11-10T00:00:00\",\"2022-11-11T00:00:00\",\"2022-11-12T00:00:00\",\"2022-11-13T00:00:00\",\"2022-11-14T00:00:00\",\"2022-11-15T00:00:00\",\"2022-11-16T00:00:00\",\"2022-11-17T00:00:00\",\"2022-11-18T00:00:00\",\"2022-11-19T00:00:00\",\"2022-11-20T00:00:00\",\"2022-11-21T00:00:00\",\"2022-11-22T00:00:00\",\"2022-11-23T00:00:00\",\"2022-11-24T00:00:00\",\"2022-11-25T00:00:00\",\"2022-11-26T00:00:00\",\"2022-11-27T00:00:00\",\"2022-11-28T00:00:00\",\"2022-11-29T00:00:00\",\"2022-11-30T00:00:00\",\"2022-12-01T00:00:00\",\"2022-12-02T00:00:00\",\"2022-12-03T00:00:00\",\"2022-12-04T00:00:00\",\"2022-12-05T00:00:00\",\"2022-12-06T00:00:00\",\"2022-12-07T00:00:00\",\"2022-12-08T00:00:00\",\"2022-12-09T00:00:00\",\"2022-12-10T00:00:00\",\"2022-12-11T00:00:00\",\"2022-12-12T00:00:00\",\"2022-12-13T00:00:00\",\"2022-12-14T00:00:00\",\"2022-12-15T00:00:00\",\"2022-12-16T00:00:00\",\"2022-12-17T00:00:00\",\"2022-12-18T00:00:00\",\"2022-12-19T00:00:00\",\"2022-12-20T00:00:00\",\"2022-12-21T00:00:00\",\"2022-12-22T00:00:00\",\"2022-12-23T00:00:00\",\"2022-12-24T00:00:00\",\"2022-12-25T00:00:00\",\"2022-12-26T00:00:00\",\"2022-12-27T00:00:00\",\"2022-12-28T00:00:00\",\"2022-12-29T00:00:00\",\"2022-12-30T00:00:00\",\"2022-12-31T00:00:00\",\"2023-01-01T00:00:00\",\"2023-01-02T00:00:00\",\"2023-01-03T00:00:00\",\"2023-01-04T00:00:00\",\"2023-01-05T00:00:00\",\"2023-01-06T00:00:00\",\"2023-01-07T00:00:00\",\"2023-01-08T00:00:00\",\"2023-01-09T00:00:00\",\"2023-01-10T00:00:00\",\"2023-01-11T00:00:00\",\"2023-01-12T00:00:00\",\"2023-01-13T00:00:00\",\"2023-01-14T00:00:00\",\"2023-01-15T00:00:00\",\"2023-01-16T00:00:00\",\"2023-01-17T00:00:00\",\"2023-01-18T00:00:00\",\"2023-01-19T00:00:00\",\"2023-01-20T00:00:00\",\"2023-01-21T00:00:00\",\"2023-01-22T00:00:00\",\"2023-01-23T00:00:00\",\"2023-01-24T00:00:00\",\"2023-01-25T00:00:00\",\"2023-01-26T00:00:00\",\"2023-01-27T00:00:00\",\"2023-01-28T00:00:00\",\"2023-01-29T00:00:00\",\"2023-01-30T00:00:00\",\"2023-01-31T00:00:00\",\"2023-02-01T00:00:00\",\"2023-02-02T00:00:00\",\"2023-02-03T00:00:00\",\"2023-02-04T00:00:00\",\"2023-02-05T00:00:00\",\"2023-02-06T00:00:00\",\"2023-02-07T00:00:00\",\"2023-02-08T00:00:00\",\"2023-02-09T00:00:00\",\"2023-02-10T00:00:00\",\"2023-02-11T00:00:00\",\"2023-02-12T00:00:00\",\"2023-02-13T00:00:00\",\"2023-02-14T00:00:00\",\"2023-02-15T00:00:00\",\"2023-02-16T00:00:00\",\"2023-02-17T00:00:00\",\"2023-02-18T00:00:00\",\"2023-02-19T00:00:00\",\"2023-02-20T00:00:00\",\"2023-02-21T00:00:00\",\"2023-02-22T00:00:00\",\"2023-02-23T00:00:00\",\"2023-02-24T00:00:00\",\"2023-02-25T00:00:00\",\"2023-02-26T00:00:00\",\"2023-02-27T00:00:00\",\"2023-02-28T00:00:00\",\"2023-03-01T00:00:00\",\"2023-03-02T00:00:00\",\"2023-03-03T00:00:00\",\"2023-03-04T00:00:00\",\"2023-03-05T00:00:00\",\"2023-03-06T00:00:00\",\"2023-03-07T00:00:00\",\"2023-03-08T00:00:00\",\"2023-03-09T00:00:00\",\"2023-03-10T00:00:00\",\"2023-03-11T00:00:00\",\"2023-03-12T00:00:00\",\"2023-03-13T00:00:00\",\"2023-03-14T00:00:00\",\"2023-03-15T00:00:00\",\"2023-03-16T00:00:00\",\"2023-03-17T00:00:00\",\"2023-03-18T00:00:00\",\"2023-03-19T00:00:00\",\"2023-03-20T00:00:00\",\"2023-03-21T00:00:00\",\"2023-03-22T00:00:00\",\"2023-03-23T00:00:00\",\"2023-03-24T00:00:00\",\"2023-03-25T00:00:00\",\"2023-03-26T00:00:00\",\"2023-03-27T00:00:00\",\"2023-03-28T00:00:00\",\"2023-03-29T00:00:00\",\"2023-03-30T00:00:00\",\"2023-03-31T00:00:00\",\"2023-04-01T00:00:00\",\"2023-04-02T00:00:00\",\"2023-04-03T00:00:00\",\"2023-04-04T00:00:00\",\"2023-04-05T00:00:00\",\"2023-04-06T00:00:00\",\"2023-04-07T00:00:00\",\"2023-04-08T00:00:00\",\"2023-04-09T00:00:00\",\"2023-04-10T00:00:00\",\"2023-04-11T00:00:00\",\"2023-04-12T00:00:00\",\"2023-04-13T00:00:00\",\"2023-04-14T00:00:00\",\"2023-04-15T00:00:00\",\"2023-04-16T00:00:00\",\"2023-04-17T00:00:00\",\"2023-04-18T00:00:00\",\"2023-04-19T00:00:00\",\"2023-04-20T00:00:00\",\"2023-04-21T00:00:00\",\"2023-04-22T00:00:00\",\"2023-04-23T00:00:00\",\"2023-04-24T00:00:00\",\"2023-04-25T00:00:00\",\"2023-04-26T00:00:00\",\"2023-04-27T00:00:00\",\"2023-04-28T00:00:00\",\"2023-04-29T00:00:00\",\"2023-04-30T00:00:00\",\"2023-05-01T00:00:00\",\"2023-05-02T00:00:00\",\"2023-05-03T00:00:00\",\"2023-05-04T00:00:00\",\"2023-05-05T00:00:00\",\"2023-05-06T00:00:00\",\"2023-05-07T00:00:00\",\"2023-05-08T00:00:00\",\"2023-05-09T00:00:00\",\"2023-05-10T00:00:00\",\"2023-05-11T00:00:00\",\"2023-05-12T00:00:00\",\"2023-05-13T00:00:00\",\"2023-05-14T00:00:00\",\"2023-05-15T00:00:00\",\"2023-05-16T00:00:00\",\"2023-05-17T00:00:00\",\"2023-05-18T00:00:00\",\"2023-05-19T00:00:00\",\"2023-05-20T00:00:00\",\"2023-05-21T00:00:00\",\"2023-05-22T00:00:00\",\"2023-05-23T00:00:00\",\"2023-05-24T00:00:00\",\"2023-05-25T00:00:00\",\"2023-05-26T00:00:00\",\"2023-05-27T00:00:00\",\"2023-05-28T00:00:00\",\"2023-05-29T00:00:00\",\"2023-05-30T00:00:00\",\"2023-05-31T00:00:00\",\"2023-06-01T00:00:00\",\"2023-06-02T00:00:00\",\"2023-06-03T00:00:00\",\"2023-06-04T00:00:00\",\"2023-06-05T00:00:00\",\"2023-06-06T00:00:00\",\"2023-06-07T00:00:00\",\"2023-06-08T00:00:00\",\"2023-06-09T00:00:00\",\"2023-06-10T00:00:00\",\"2023-06-11T00:00:00\",\"2023-06-12T00:00:00\",\"2023-06-13T00:00:00\",\"2023-06-14T00:00:00\",\"2023-06-15T00:00:00\",\"2023-06-16T00:00:00\",\"2023-06-17T00:00:00\",\"2023-06-18T00:00:00\",\"2023-06-19T00:00:00\",\"2023-06-20T00:00:00\",\"2023-06-21T00:00:00\",\"2023-06-22T00:00:00\",\"2023-06-23T00:00:00\",\"2023-06-24T00:00:00\",\"2023-06-25T00:00:00\",\"2023-06-26T00:00:00\",\"2023-06-27T00:00:00\",\"2023-06-28T00:00:00\",\"2023-06-29T00:00:00\",\"2023-06-30T00:00:00\",\"2023-07-01T00:00:00\",\"2023-07-02T00:00:00\",\"2023-07-03T00:00:00\",\"2023-07-04T00:00:00\",\"2023-07-05T00:00:00\",\"2023-07-06T00:00:00\",\"2023-07-07T00:00:00\",\"2023-07-08T00:00:00\",\"2023-07-09T00:00:00\",\"2023-07-10T00:00:00\",\"2023-07-11T00:00:00\",\"2023-07-12T00:00:00\",\"2023-07-13T00:00:00\",\"2023-07-14T00:00:00\",\"2023-07-15T00:00:00\",\"2023-07-16T00:00:00\",\"2023-07-17T00:00:00\",\"2023-07-18T00:00:00\",\"2023-07-19T00:00:00\",\"2023-07-20T00:00:00\",\"2023-07-21T00:00:00\",\"2023-07-22T00:00:00\",\"2023-07-23T00:00:00\",\"2023-07-24T00:00:00\",\"2023-07-25T00:00:00\",\"2023-07-26T00:00:00\",\"2023-07-27T00:00:00\",\"2023-07-28T00:00:00\",\"2023-07-29T00:00:00\",\"2023-07-30T00:00:00\",\"2023-07-31T00:00:00\",\"2023-08-01T00:00:00\",\"2023-08-02T00:00:00\",\"2023-08-03T00:00:00\",\"2023-08-04T00:00:00\",\"2023-08-05T00:00:00\",\"2023-08-06T00:00:00\",\"2023-08-07T00:00:00\",\"2023-08-08T00:00:00\",\"2023-08-09T00:00:00\",\"2023-08-10T00:00:00\",\"2023-08-11T00:00:00\",\"2023-08-12T00:00:00\",\"2023-08-13T00:00:00\",\"2023-08-14T00:00:00\",\"2023-08-15T00:00:00\",\"2023-08-16T00:00:00\",\"2023-08-17T00:00:00\",\"2023-08-18T00:00:00\",\"2023-08-19T00:00:00\",\"2023-08-20T00:00:00\",\"2023-08-21T00:00:00\",\"2023-08-22T00:00:00\",\"2023-08-23T00:00:00\",\"2023-08-24T00:00:00\",\"2023-08-25T00:00:00\",\"2023-08-26T00:00:00\",\"2023-08-27T00:00:00\",\"2023-08-28T00:00:00\",\"2023-08-29T00:00:00\",\"2023-08-30T00:00:00\",\"2023-08-31T00:00:00\",\"2023-09-01T00:00:00\",\"2023-09-02T00:00:00\",\"2023-09-03T00:00:00\",\"2023-09-04T00:00:00\",\"2023-09-05T00:00:00\",\"2023-09-06T00:00:00\",\"2023-09-07T00:00:00\",\"2023-09-08T00:00:00\",\"2023-09-09T00:00:00\",\"2023-09-10T00:00:00\",\"2023-09-11T00:00:00\",\"2023-09-12T00:00:00\",\"2023-09-13T00:00:00\",\"2023-09-14T00:00:00\",\"2023-09-15T00:00:00\",\"2023-09-16T00:00:00\",\"2023-09-17T00:00:00\",\"2023-09-18T00:00:00\",\"2023-09-19T00:00:00\",\"2023-09-20T00:00:00\",\"2023-09-21T00:00:00\",\"2023-09-22T00:00:00\",\"2023-09-23T00:00:00\",\"2023-09-24T00:00:00\",\"2023-09-25T00:00:00\",\"2023-09-26T00:00:00\",\"2023-09-27T00:00:00\",\"2023-09-28T00:00:00\",\"2023-09-29T00:00:00\",\"2023-09-30T00:00:00\",\"2023-10-01T00:00:00\",\"2023-10-02T00:00:00\",\"2023-10-03T00:00:00\",\"2023-10-04T00:00:00\",\"2023-10-05T00:00:00\",\"2023-10-06T00:00:00\",\"2023-10-07T00:00:00\",\"2023-10-08T00:00:00\",\"2023-10-09T00:00:00\",\"2023-10-10T00:00:00\",\"2023-10-11T00:00:00\",\"2023-10-12T00:00:00\",\"2023-10-13T00:00:00\",\"2023-10-14T00:00:00\",\"2023-10-15T00:00:00\",\"2023-10-16T00:00:00\",\"2023-10-17T00:00:00\",\"2023-10-18T00:00:00\",\"2023-10-19T00:00:00\",\"2023-10-20T00:00:00\",\"2023-10-21T00:00:00\",\"2023-10-22T00:00:00\",\"2023-10-23T00:00:00\",\"2023-10-24T00:00:00\",\"2023-10-25T00:00:00\",\"2023-10-26T00:00:00\",\"2023-10-27T00:00:00\",\"2023-10-28T00:00:00\",\"2023-10-29T00:00:00\",\"2023-10-30T00:00:00\",\"2023-10-31T00:00:00\",\"2023-11-01T00:00:00\",\"2023-11-02T00:00:00\",\"2023-11-03T00:00:00\",\"2023-11-04T00:00:00\",\"2023-11-05T00:00:00\",\"2023-11-06T00:00:00\",\"2023-11-07T00:00:00\",\"2023-11-08T00:00:00\",\"2023-11-09T00:00:00\",\"2023-11-10T00:00:00\",\"2023-11-11T00:00:00\",\"2023-11-12T00:00:00\",\"2023-11-13T00:00:00\",\"2023-11-14T00:00:00\",\"2023-11-15T00:00:00\",\"2023-11-16T00:00:00\",\"2023-11-17T00:00:00\",\"2023-11-18T00:00:00\",\"2023-11-19T00:00:00\",\"2023-11-20T00:00:00\",\"2023-11-21T00:00:00\",\"2023-11-22T00:00:00\",\"2023-11-23T00:00:00\",\"2023-11-24T00:00:00\",\"2023-11-25T00:00:00\",\"2023-11-26T00:00:00\",\"2023-11-27T00:00:00\",\"2023-11-28T00:00:00\",\"2023-11-29T00:00:00\",\"2023-11-30T00:00:00\",\"2023-12-01T00:00:00\",\"2023-12-02T00:00:00\",\"2023-12-03T00:00:00\",\"2023-12-04T00:00:00\",\"2023-12-05T00:00:00\",\"2023-12-06T00:00:00\",\"2023-12-07T00:00:00\",\"2023-12-08T00:00:00\",\"2023-12-09T00:00:00\",\"2023-12-10T00:00:00\",\"2023-12-11T00:00:00\",\"2023-12-12T00:00:00\",\"2023-12-13T00:00:00\",\"2023-12-14T00:00:00\",\"2023-12-15T00:00:00\",\"2023-12-16T00:00:00\",\"2023-12-17T00:00:00\",\"2023-12-18T00:00:00\",\"2023-12-19T00:00:00\",\"2023-12-20T00:00:00\",\"2023-12-21T00:00:00\",\"2023-12-22T00:00:00\",\"2023-12-23T00:00:00\",\"2023-12-24T00:00:00\",\"2023-12-25T00:00:00\",\"2023-12-26T00:00:00\",\"2023-12-27T00:00:00\",\"2023-12-28T00:00:00\",\"2023-12-29T00:00:00\",\"2023-12-30T00:00:00\",\"2023-12-31T00:00:00\",\"2024-01-01T00:00:00\"],\"type\":\"candlestick\"},{\"marker\":{\"color\":\"lime\",\"line\":{\"color\":\"black\",\"width\":1},\"size\":10,\"symbol\":\"triangle-up\"},\"mode\":\"markers\",\"name\":\"Long (1)\",\"x\":[\"2020-01-08T00:00:00\",\"2020-04-28T00:00:00\",\"2020-07-26T00:00:00\",\"2020-10-12T00:00:00\",\"2020-12-16T00:00:00\",\"2021-04-13T00:00:00\",\"2021-07-28T00:00:00\",\"2021-09-04T00:00:00\",\"2021-10-06T00:00:00\",\"2021-11-08T00:00:00\",\"2022-03-27T00:00:00\",\"2022-11-05T00:00:00\",\"2023-01-11T00:00:00\",\"2023-02-18T00:00:00\",\"2023-03-17T00:00:00\",\"2023-04-09T00:00:00\",\"2023-06-22T00:00:00\",\"2023-07-13T00:00:00\",\"2023-10-07T00:00:00\",\"2023-10-19T00:00:00\",\"2023-11-28T00:00:00\"],\"y\":[8059.84,7735.75,9939.69,11530.36,21346.8,63649.71,40003.08,49940.74,55321.6,67606.96,46820.8,21289.9,17935.7,24636.9,27384.0,28309.4,29875.0,31441.7,27943.0,28696.9,37812.1],\"type\":\"scatter\"},{\"marker\":{\"color\":\"red\",\"line\":{\"color\":\"black\",\"width\":1},\"size\":10,\"symbol\":\"triangle-down\"},\"mode\":\"markers\",\"name\":\"Short (-1)\",\"x\":[\"2020-03-01T00:00:00\",\"2020-05-31T00:00:00\",\"2020-08-22T00:00:00\",\"2020-12-09T00:00:00\",\"2021-04-01T00:00:00\",\"2021-04-17T00:00:00\",\"2021-08-31T00:00:00\",\"2021-10-03T00:00:00\",\"2021-10-28T00:00:00\",\"2021-11-12T00:00:00\",\"2022-05-07T00:00:00\",\"2022-11-07T00:00:00\",\"2023-02-17T00:00:00\",\"2023-03-09T00:00:00\",\"2023-04-07T00:00:00\",\"2023-04-29T00:00:00\",\"2023-07-09T00:00:00\",\"2023-08-17T00:00:00\",\"2023-10-09T00:00:00\",\"2023-11-27T00:00:00\",\"2023-12-27T00:00:00\"],\"y\":[8537.84,9446.43,11670.47,18537.98,58794.01,60090.14,47150.32,48187.3,60622.03,64156.08,35466.7,20578.6,24581.5,20348.3,27890.7,29212.7,30147.8,26609.7,27578.3,37234.3,43453.8],\"type\":\"scatter\"},{\"marker\":{\"color\":\"cyan\",\"line\":{\"color\":\"black\",\"width\":1},\"size\":10,\"symbol\":\"star\"},\"mode\":\"markers\",\"name\":\"Long Reversal (2)\",\"x\":[],\"y\":[],\"type\":\"scatter\"},{\"marker\":{\"color\":\"magenta\",\"line\":{\"color\":\"black\",\"width\":1},\"size\":10,\"symbol\":\"star\"},\"mode\":\"markers\",\"name\":\"Short Reversal (-2)\",\"x\":[],\"y\":[],\"type\":\"scatter\"}],                        {\"template\":{\"data\":{\"histogram2dcontour\":[{\"type\":\"histogram2dcontour\",\"colorbar\":{\"outlinewidth\":0,\"ticks\":\"\"},\"colorscale\":[[0.0,\"#0d0887\"],[0.1111111111111111,\"#46039f\"],[0.2222222222222222,\"#7201a8\"],[0.3333333333333333,\"#9c179e\"],[0.4444444444444444,\"#bd3786\"],[0.5555555555555556,\"#d8576b\"],[0.6666666666666666,\"#ed7953\"],[0.7777777777777778,\"#fb9f3a\"],[0.8888888888888888,\"#fdca26\"],[1.0,\"#f0f921\"]]}],\"choropleth\":[{\"type\":\"choropleth\",\"colorbar\":{\"outlinewidth\":0,\"ticks\":\"\"}}],\"histogram2d\":[{\"type\":\"histogram2d\",\"colorbar\":{\"outlinewidth\":0,\"ticks\":\"\"},\"colorscale\":[[0.0,\"#0d0887\"],[0.1111111111111111,\"#46039f\"],[0.2222222222222222,\"#7201a8\"],[0.3333333333333333,\"#9c179e\"],[0.4444444444444444,\"#bd3786\"],[0.5555555555555556,\"#d8576b\"],[0.6666666666666666,\"#ed7953\"],[0.7777777777777778,\"#fb9f3a\"],[0.8888888888888888,\"#fdca26\"],[1.0,\"#f0f921\"]]}],\"heatmap\":[{\"type\":\"heatmap\",\"colorbar\":{\"outlinewidth\":0,\"ticks\":\"\"},\"colorscale\":[[0.0,\"#0d0887\"],[0.1111111111111111,\"#46039f\"],[0.2222222222222222,\"#7201a8\"],[0.3333333333333333,\"#9c179e\"],[0.4444444444444444,\"#bd3786\"],[0.5555555555555556,\"#d8576b\"],[0.6666666666666666,\"#ed7953\"],[0.7777777777777778,\"#fb9f3a\"],[0.8888888888888888,\"#fdca26\"],[1.0,\"#f0f921\"]]}],\"heatmapgl\":[{\"type\":\"heatmapgl\",\"colorbar\":{\"outlinewidth\":0,\"ticks\":\"\"},\"colorscale\":[[0.0,\"#0d0887\"],[0.1111111111111111,\"#46039f\"],[0.2222222222222222,\"#7201a8\"],[0.3333333333333333,\"#9c179e\"],[0.4444444444444444,\"#bd3786\"],[0.5555555555555556,\"#d8576b\"],[0.6666666666666666,\"#ed7953\"],[0.7777777777777778,\"#fb9f3a\"],[0.8888888888888888,\"#fdca26\"],[1.0,\"#f0f921\"]]}],\"contourcarpet\":[{\"type\":\"contourcarpet\",\"colorbar\":{\"outlinewidth\":0,\"ticks\":\"\"}}],\"contour\":[{\"type\":\"contour\",\"colorbar\":{\"outlinewidth\":0,\"ticks\":\"\"},\"colorscale\":[[0.0,\"#0d0887\"],[0.1111111111111111,\"#46039f\"],[0.2222222222222222,\"#7201a8\"],[0.3333333333333333,\"#9c179e\"],[0.4444444444444444,\"#bd3786\"],[0.5555555555555556,\"#d8576b\"],[0.6666666666666666,\"#ed7953\"],[0.7777777777777778,\"#fb9f3a\"],[0.8888888888888888,\"#fdca26\"],[1.0,\"#f0f921\"]]}],\"surface\":[{\"type\":\"surface\",\"colorbar\":{\"outlinewidth\":0,\"ticks\":\"\"},\"colorscale\":[[0.0,\"#0d0887\"],[0.1111111111111111,\"#46039f\"],[0.2222222222222222,\"#7201a8\"],[0.3333333333333333,\"#9c179e\"],[0.4444444444444444,\"#bd3786\"],[0.5555555555555556,\"#d8576b\"],[0.6666666666666666,\"#ed7953\"],[0.7777777777777778,\"#fb9f3a\"],[0.8888888888888888,\"#fdca26\"],[1.0,\"#f0f921\"]]}],\"mesh3d\":[{\"type\":\"mesh3d\",\"colorbar\":{\"outlinewidth\":0,\"ticks\":\"\"}}],\"scatter\":[{\"fillpattern\":{\"fillmode\":\"overlay\",\"size\":10,\"solidity\":0.2},\"type\":\"scatter\"}],\"parcoords\":[{\"type\":\"parcoords\",\"line\":{\"colorbar\":{\"outlinewidth\":0,\"ticks\":\"\"}}}],\"scatterpolargl\":[{\"type\":\"scatterpolargl\",\"marker\":{\"colorbar\":{\"outlinewidth\":0,\"ticks\":\"\"}}}],\"bar\":[{\"error_x\":{\"color\":\"#2a3f5f\"},\"error_y\":{\"color\":\"#2a3f5f\"},\"marker\":{\"line\":{\"color\":\"#E5ECF6\",\"width\":0.5},\"pattern\":{\"fillmode\":\"overlay\",\"size\":10,\"solidity\":0.2}},\"type\":\"bar\"}],\"scattergeo\":[{\"type\":\"scattergeo\",\"marker\":{\"colorbar\":{\"outlinewidth\":0,\"ticks\":\"\"}}}],\"scatterpolar\":[{\"type\":\"scatterpolar\",\"marker\":{\"colorbar\":{\"outlinewidth\":0,\"ticks\":\"\"}}}],\"histogram\":[{\"marker\":{\"pattern\":{\"fillmode\":\"overlay\",\"size\":10,\"solidity\":0.2}},\"type\":\"histogram\"}],\"scattergl\":[{\"type\":\"scattergl\",\"marker\":{\"colorbar\":{\"outlinewidth\":0,\"ticks\":\"\"}}}],\"scatter3d\":[{\"type\":\"scatter3d\",\"line\":{\"colorbar\":{\"outlinewidth\":0,\"ticks\":\"\"}},\"marker\":{\"colorbar\":{\"outlinewidth\":0,\"ticks\":\"\"}}}],\"scattermapbox\":[{\"type\":\"scattermapbox\",\"marker\":{\"colorbar\":{\"outlinewidth\":0,\"ticks\":\"\"}}}],\"scatterternary\":[{\"type\":\"scatterternary\",\"marker\":{\"colorbar\":{\"outlinewidth\":0,\"ticks\":\"\"}}}],\"scattercarpet\":[{\"type\":\"scattercarpet\",\"marker\":{\"colorbar\":{\"outlinewidth\":0,\"ticks\":\"\"}}}],\"carpet\":[{\"aaxis\":{\"endlinecolor\":\"#2a3f5f\",\"gridcolor\":\"white\",\"linecolor\":\"white\",\"minorgridcolor\":\"white\",\"startlinecolor\":\"#2a3f5f\"},\"baxis\":{\"endlinecolor\":\"#2a3f5f\",\"gridcolor\":\"white\",\"linecolor\":\"white\",\"minorgridcolor\":\"white\",\"startlinecolor\":\"#2a3f5f\"},\"type\":\"carpet\"}],\"table\":[{\"cells\":{\"fill\":{\"color\":\"#EBF0F8\"},\"line\":{\"color\":\"white\"}},\"header\":{\"fill\":{\"color\":\"#C8D4E3\"},\"line\":{\"color\":\"white\"}},\"type\":\"table\"}],\"barpolar\":[{\"marker\":{\"line\":{\"color\":\"#E5ECF6\",\"width\":0.5},\"pattern\":{\"fillmode\":\"overlay\",\"size\":10,\"solidity\":0.2}},\"type\":\"barpolar\"}],\"pie\":[{\"automargin\":true,\"type\":\"pie\"}]},\"layout\":{\"autotypenumbers\":\"strict\",\"colorway\":[\"#636efa\",\"#EF553B\",\"#00cc96\",\"#ab63fa\",\"#FFA15A\",\"#19d3f3\",\"#FF6692\",\"#B6E880\",\"#FF97FF\",\"#FECB52\"],\"font\":{\"color\":\"#2a3f5f\"},\"hovermode\":\"closest\",\"hoverlabel\":{\"align\":\"left\"},\"paper_bgcolor\":\"white\",\"plot_bgcolor\":\"#E5ECF6\",\"polar\":{\"bgcolor\":\"#E5ECF6\",\"angularaxis\":{\"gridcolor\":\"white\",\"linecolor\":\"white\",\"ticks\":\"\"},\"radialaxis\":{\"gridcolor\":\"white\",\"linecolor\":\"white\",\"ticks\":\"\"}},\"ternary\":{\"bgcolor\":\"#E5ECF6\",\"aaxis\":{\"gridcolor\":\"white\",\"linecolor\":\"white\",\"ticks\":\"\"},\"baxis\":{\"gridcolor\":\"white\",\"linecolor\":\"white\",\"ticks\":\"\"},\"caxis\":{\"gridcolor\":\"white\",\"linecolor\":\"white\",\"ticks\":\"\"}},\"coloraxis\":{\"colorbar\":{\"outlinewidth\":0,\"ticks\":\"\"}},\"colorscale\":{\"sequential\":[[0.0,\"#0d0887\"],[0.1111111111111111,\"#46039f\"],[0.2222222222222222,\"#7201a8\"],[0.3333333333333333,\"#9c179e\"],[0.4444444444444444,\"#bd3786\"],[0.5555555555555556,\"#d8576b\"],[0.6666666666666666,\"#ed7953\"],[0.7777777777777778,\"#fb9f3a\"],[0.8888888888888888,\"#fdca26\"],[1.0,\"#f0f921\"]],\"sequentialminus\":[[0.0,\"#0d0887\"],[0.1111111111111111,\"#46039f\"],[0.2222222222222222,\"#7201a8\"],[0.3333333333333333,\"#9c179e\"],[0.4444444444444444,\"#bd3786\"],[0.5555555555555556,\"#d8576b\"],[0.6666666666666666,\"#ed7953\"],[0.7777777777777778,\"#fb9f3a\"],[0.8888888888888888,\"#fdca26\"],[1.0,\"#f0f921\"]],\"diverging\":[[0,\"#8e0152\"],[0.1,\"#c51b7d\"],[0.2,\"#de77ae\"],[0.3,\"#f1b6da\"],[0.4,\"#fde0ef\"],[0.5,\"#f7f7f7\"],[0.6,\"#e6f5d0\"],[0.7,\"#b8e186\"],[0.8,\"#7fbc41\"],[0.9,\"#4d9221\"],[1,\"#276419\"]]},\"xaxis\":{\"gridcolor\":\"white\",\"linecolor\":\"white\",\"ticks\":\"\",\"title\":{\"standoff\":15},\"zerolinecolor\":\"white\",\"automargin\":true,\"zerolinewidth\":2},\"yaxis\":{\"gridcolor\":\"white\",\"linecolor\":\"white\",\"ticks\":\"\",\"title\":{\"standoff\":15},\"zerolinecolor\":\"white\",\"automargin\":true,\"zerolinewidth\":2},\"scene\":{\"xaxis\":{\"backgroundcolor\":\"#E5ECF6\",\"gridcolor\":\"white\",\"linecolor\":\"white\",\"showbackground\":true,\"ticks\":\"\",\"zerolinecolor\":\"white\",\"gridwidth\":2},\"yaxis\":{\"backgroundcolor\":\"#E5ECF6\",\"gridcolor\":\"white\",\"linecolor\":\"white\",\"showbackground\":true,\"ticks\":\"\",\"zerolinecolor\":\"white\",\"gridwidth\":2},\"zaxis\":{\"backgroundcolor\":\"#E5ECF6\",\"gridcolor\":\"white\",\"linecolor\":\"white\",\"showbackground\":true,\"ticks\":\"\",\"zerolinecolor\":\"white\",\"gridwidth\":2}},\"shapedefaults\":{\"line\":{\"color\":\"#2a3f5f\"}},\"annotationdefaults\":{\"arrowcolor\":\"#2a3f5f\",\"arrowhead\":0,\"arrowwidth\":1},\"geo\":{\"bgcolor\":\"white\",\"landcolor\":\"#E5ECF6\",\"subunitcolor\":\"white\",\"showland\":true,\"showlakes\":true,\"lakecolor\":\"white\"},\"title\":{\"x\":0.05},\"mapbox\":{\"style\":\"light\"}}},\"xaxis\":{\"rangeslider\":{\"visible\":false},\"title\":{\"text\":\"Date\"}},\"legend\":{\"y\":1,\"traceorder\":\"normal\"},\"margin\":{\"l\":0,\"r\":0,\"t\":50,\"b\":50},\"title\":{\"text\":\"BTC-USD Candlestick Chart with Trade Signals\"},\"yaxis\":{\"title\":{\"text\":\"Price (USD)\"}}},                        {\"responsive\": true}                    ).then(function(){\n",
              "                            \n",
              "var gd = document.getElementById('47ea2448-bfaa-4f12-a498-62b7e4b5ade9');\n",
              "var x = new MutationObserver(function (mutations, observer) {{\n",
              "        var display = window.getComputedStyle(gd).display;\n",
              "        if (!display || display === 'none') {{\n",
              "            console.log([gd, 'removed!']);\n",
              "            Plotly.purge(gd);\n",
              "            observer.disconnect();\n",
              "        }}\n",
              "}});\n",
              "\n",
              "// Listen for the removal of the full notebook cells\n",
              "var notebookContainer = gd.closest('#notebook-container');\n",
              "if (notebookContainer) {{\n",
              "    x.observe(notebookContainer, {childList: true});\n",
              "}}\n",
              "\n",
              "// Listen for the clearing of the current output cell\n",
              "var outputEl = gd.closest('.output');\n",
              "if (outputEl) {{\n",
              "    x.observe(outputEl, {childList: true});\n",
              "}}\n",
              "\n",
              "                        })                };                            </script>        </div>\n",
              "</body>\n",
              "</html>"
            ]
          },
          "metadata": {}
        },
        {
          "output_type": "stream",
          "name": "stdout",
          "text": [
            "Output File: /content/Trade_Logs_20241111_130316.csv\n"
          ]
        }
      ]
    }
  ]
}